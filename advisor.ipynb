{
 "cells": [
  {
   "cell_type": "markdown",
   "metadata": {},
   "source": [
    "# Fantasy Premier League (FPL) Advisor\n",
    "\n",
    "# Purpose\n",
    "The purpose of this Jupyter notebook is to help with the selection of team members for the [Fantasy Premier League](https://fantasy.premierleague.com/) (FPL) by attempting to forecast how many points players will earn. It accesses the FPL API to download up-to-date stats, provides visual analysis and uses linear optimisation to recommend a team with the maximum expected points to improve the performance of your current team.\n",
    "\n",
    "If you are not familar with the Fantasy Permier League, you can watch this introduction:\n",
    "\n",
    "<a href=\"http://www.youtube.com/watch?v=SV_F-cL8fC0\" target=\"_blank\"><img src=\"http://img.youtube.com/vi/SV_F-cL8fC0/0.jpg\" \n",
    "alt=\"How to play FPL\" width=\"600\" height=\"400\"/></a>\n",
    "\n",
    "# Installation\n",
    "To get started, run the following command to install all required dependencies."
   ]
  },
  {
   "cell_type": "code",
   "execution_count": null,
   "metadata": {
    "ExecuteTime": {
     "end_time": "2019-11-10T19:25:15.282278Z",
     "start_time": "2019-11-10T19:25:12.434890Z"
    }
   },
   "outputs": [],
   "source": [
    " !pip install -r requirements.txt"
   ]
  },
  {
   "cell_type": "markdown",
   "metadata": {},
   "source": [
    "# Import requirements\n",
    "Here we import all external and local modulues."
   ]
  },
  {
   "cell_type": "code",
   "execution_count": null,
   "metadata": {
    "ExecuteTime": {
     "end_time": "2019-11-10T19:25:18.351071Z",
     "start_time": "2019-11-10T19:25:15.285269Z"
    }
   },
   "outputs": [],
   "source": [
    "import pandas as pd, re, datetime as dt, numpy as np, plotly.offline as py, cufflinks as cf, ipywidgets as widgets, os, sys\n",
    "from ipywidgets import interact, fixed\n",
    "from fplpandas import FPLPandas\n",
    "from datadict.jupyter import DataDict\n",
    "\n",
    "# Load local modules\n",
    "sys.path.append(os.getcwd())\n",
    "from optimiser import get_optimal_squad\n",
    "from common import *\n",
    "from jupyter import *\n",
    "\n",
    "cf.go_offline()\n",
    "pd.set_option('display.max_columns', 100)"
   ]
  },
  {
   "cell_type": "markdown",
   "metadata": {},
   "source": [
    "# Set variables\n",
    "This section sets all important global variables."
   ]
  },
  {
   "cell_type": "code",
   "execution_count": null,
   "metadata": {
    "ExecuteTime": {
     "end_time": "2019-11-10T19:25:18.359050Z",
     "start_time": "2019-11-10T19:25:18.354063Z"
    }
   },
   "outputs": [],
   "source": [
    "season = '2019-20'\n",
    "image_url = 'https://platform-static-files.s3.amazonaws.com/premierleague/photos/players/110x140/'\n",
    "fpl = FPLPandas()"
   ]
  },
  {
   "cell_type": "markdown",
   "metadata": {},
   "source": [
    "# Load data dictionary\n",
    "This section loads the data dictionary. The data dictionary contains default ordering of fields, for each field a description default format and mapping of API field names to more readable ones. It is used show data in a more user-friendly way."
   ]
  },
  {
   "cell_type": "code",
   "execution_count": null,
   "metadata": {
    "ExecuteTime": {
     "end_time": "2019-11-10T19:25:18.382986Z",
     "start_time": "2019-11-10T19:25:18.362042Z"
    }
   },
   "outputs": [],
   "source": [
    "dd = DataDict(data_dict_file=f'./data_dictionary.csv')"
   ]
  },
  {
   "cell_type": "markdown",
   "metadata": {},
   "source": [
    "# Load player data\n",
    "This section loads the player data and stats from the following FPL API endpoint: https://fantasy.premierleague.com/api/bootstrap-static/ and returns it as a panda data frame. **This can take a few seconds** because for each player the full history for the current season is downloaded."
   ]
  },
  {
   "cell_type": "code",
   "execution_count": null,
   "metadata": {
    "ExecuteTime": {
     "end_time": "2019-11-10T19:25:35.848286Z",
     "start_time": "2019-11-10T19:25:18.385978Z"
    },
    "scrolled": true
   },
   "outputs": [],
   "source": [
    "players_raw, players_history_past_raw, players_history_raw, player_fixtures_raw = fpl.get_players()"
   ]
  },
  {
   "cell_type": "markdown",
   "metadata": {},
   "source": [
    "Then we rename some columns so that they are easier to understand and uses the data dictionary to reorder them so that the more important ones are at the front."
   ]
  },
  {
   "cell_type": "code",
   "execution_count": null,
   "metadata": {
    "ExecuteTime": {
     "end_time": "2019-11-10T19:25:35.937050Z",
     "start_time": "2019-11-10T19:25:35.851279Z"
    }
   },
   "outputs": [],
   "source": [
    "def get_news(row: pd.Series) -> str:\n",
    "    '''Derives the text for the News column.'''\n",
    "    if pd.isnull(row['news']) or row['news'] == '': return None\n",
    "    date_part = '' if pd.isnull(row['news_added']) else ' ('+dt.datetime.strftime(dt.datetime.strptime(row['news_added'], '%Y-%m-%dT%H:%M:%S.%fZ'), '%d %b %Y')+')'\n",
    "    return str(row['news'])+date_part\n",
    "\n",
    "players = dd.remap(players_raw, data_set='player')\n",
    "players['ICT Index'] = pd.to_numeric(players['ICT Index'])\n",
    "players['Field Position'] = players['Field Position ID'].map(lambda x: position_by_type[x])\n",
    "players['Current Cost'] = players['now_cost']/10\n",
    "players['Minutes Percent'] = players['Minutes Played']/players['Minutes Played'].max()*100\n",
    "players['News And Date'] = players.apply(lambda row: get_news(row), axis=1)\n",
    "players['Percent Selected'] = pd.to_numeric(players['Percent Selected'])\n",
    "players['Chance Avail Next GW'] = players['Chance Avail Next GW'].map(lambda x: x if not pd.isnull(x) else 100)\n",
    "players['Chance Avail After Next GW'] = players['Chance Avail After Next GW'].map(lambda x: x if not pd.isnull(x) else 100)\n",
    "players.index = players.index.rename('Player ID')\n",
    "players = dd.reorder(players)\n",
    "# Uncomment to view data: dd.display(players, head=10, excel_file='players.xlsx', stats=True)"
   ]
  },
  {
   "cell_type": "code",
   "execution_count": null,
   "metadata": {},
   "outputs": [],
   "source": [
    "players_history_past = dd.remap(players_history_past_raw, data_set='players_history_past')\n",
    "players_history_past.index = players_history_past.index.rename(['Player ID', 'Season'])\n",
    "seasons = players_history_past.reset_index()['Season'].drop_duplicates().sort_values().values\n",
    "current_season = seasons[-1:][0]\n",
    "last_season = seasons[-2:-1][0]\n",
    "# Uncomment to view data: dd.display(players_history_past, head=10, excel_file='players_history_past.xlsx', stats=True)"
   ]
  },
  {
   "cell_type": "markdown",
   "metadata": {
    "ExecuteTime": {
     "end_time": "2019-09-22T17:55:28.443342Z",
     "start_time": "2019-09-22T17:55:28.437358Z"
    }
   },
   "source": [
    "# Load data for completed games this season for all players\n",
    "This section loads the data for completed games this season for each player from the following endpoint: https://fantasy.premierleague.com/api/element-summary/1/ and returns it as a panda data frame."
   ]
  },
  {
   "cell_type": "code",
   "execution_count": null,
   "metadata": {
    "ExecuteTime": {
     "end_time": "2019-11-10T19:25:40.964607Z",
     "start_time": "2019-11-10T19:25:35.939045Z"
    }
   },
   "outputs": [],
   "source": [
    "players_history = dd.remap(players_history_raw, 'player_hist')\n",
    "players_history.index.names = ['Player ID', 'Fixture ID']\n",
    "players_history['Game Cost'] = players_history['value']/10\n",
    "players_history['Game ICT Index'] = pd.to_numeric(players_history['Game ICT Index'])\n",
    "# Uncomment to view data: dd.display(players_history, head=10, stats=True, excel_file='players_history.xlsx')"
   ]
  },
  {
   "cell_type": "markdown",
   "metadata": {},
   "source": [
    "# Load team data"
   ]
  },
  {
   "cell_type": "markdown",
   "metadata": {
    "ExecuteTime": {
     "end_time": "2019-09-16T20:19:21.668650Z",
     "start_time": "2019-09-16T20:19:21.656681Z"
    }
   },
   "source": [
    "This section loads the team data and stats from the following endpoint: https://fantasy.premierleague.com/api/bootstrap-static/ and returns it as a panda data frame."
   ]
  },
  {
   "cell_type": "code",
   "execution_count": null,
   "metadata": {
    "ExecuteTime": {
     "end_time": "2019-11-10T19:25:41.155097Z",
     "start_time": "2019-11-10T19:25:40.966601Z"
    },
    "scrolled": true
   },
   "outputs": [],
   "source": [
    "teams_raw = fpl.get_teams()"
   ]
  },
  {
   "cell_type": "markdown",
   "metadata": {},
   "source": [
    "He we rename some columns so that they are easier to understand and uses the data dictionary to reorder the columns so that the more important ones are at the front."
   ]
  },
  {
   "cell_type": "code",
   "execution_count": null,
   "metadata": {
    "ExecuteTime": {
     "end_time": "2019-11-10T19:25:41.268794Z",
     "start_time": "2019-11-10T19:25:41.157093Z"
    }
   },
   "outputs": [],
   "source": [
    "teams = dd.remap(teams_raw, 'team')\n",
    "teams.index = teams.index.rename('Team ID')\n",
    "# Uncomment to view data: dd.display(teams, head=10)"
   ]
  },
  {
   "cell_type": "markdown",
   "metadata": {},
   "source": [
    "# Load fixture data"
   ]
  },
  {
   "cell_type": "markdown",
   "metadata": {},
   "source": [
    "This section loads the fixture data and stats from the following endpoint: https://fantasy.premierleague.com/api/fixtures/ and returns it as a panda data frame."
   ]
  },
  {
   "cell_type": "code",
   "execution_count": null,
   "metadata": {
    "ExecuteTime": {
     "end_time": "2019-11-10T19:25:41.661742Z",
     "start_time": "2019-11-10T19:25:41.273781Z"
    }
   },
   "outputs": [],
   "source": [
    "fixtures_raw = fpl.get_fixtures()"
   ]
  },
  {
   "cell_type": "markdown",
   "metadata": {
    "ExecuteTime": {
     "end_time": "2019-09-16T20:35:32.431736Z",
     "start_time": "2019-09-16T20:35:32.424754Z"
    }
   },
   "source": [
    "Here we rename some columns so that they are easier to understand and uses the data dictionary to reorder the columns so that the more important ones are at the front."
   ]
  },
  {
   "cell_type": "code",
   "execution_count": null,
   "metadata": {
    "ExecuteTime": {
     "end_time": "2019-11-10T19:25:41.769454Z",
     "start_time": "2019-11-10T19:25:41.664735Z"
    }
   },
   "outputs": [],
   "source": [
    "fixtures = dd.remap(fixtures_raw.drop(columns=['stats', 'finished_provisional', 'provisional_start_time']), 'fixture')\n",
    "fixtures.index = fixtures.index.rename('Game ID')\n",
    "# Uncomment to view data: dd.display(fixtures, head=10)"
   ]
  },
  {
   "cell_type": "markdown",
   "metadata": {},
   "source": [
    "# Create derived data\n",
    "This section creates new dataset by combining the previously loaded ones."
   ]
  },
  {
   "cell_type": "markdown",
   "metadata": {},
   "source": [
    "## Players with team info"
   ]
  },
  {
   "cell_type": "code",
   "execution_count": null,
   "metadata": {
    "ExecuteTime": {
     "end_time": "2019-11-10T19:25:41.808350Z",
     "start_time": "2019-11-10T19:25:41.771450Z"
    },
    "scrolled": true
   },
   "outputs": [],
   "source": [
    "player_teams = players.reset_index(drop=False).merge(teams, left_on='Player Team ID', right_on='Team ID').set_index('Player ID')\n",
    "player_teams['Long Name'] = player_teams['First Name']+' '+player_teams['Last Name']\n",
    "player_teams['Long Name and Team'] = player_teams['Long Name']+' ('+player_teams['Team Name']+')'\n",
    "player_teams['Name and Short Team'] = player_teams['Name']+' ('+player_teams['Team Short Name']+')'\n",
    "player_teams = dd.reorder(player_teams)\n",
    "# Uncomment to view data: dd.display(player_teams, head=5)"
   ]
  },
  {
   "cell_type": "markdown",
   "metadata": {},
   "source": [
    "## Fixtures with team info"
   ]
  },
  {
   "cell_type": "code",
   "execution_count": null,
   "metadata": {
    "ExecuteTime": {
     "end_time": "2019-11-10T19:25:41.831288Z",
     "start_time": "2019-11-10T19:25:41.810346Z"
    }
   },
   "outputs": [],
   "source": [
    "fixture_teams = fixtures.merge(teams[['Team Name', 'Team Short Name']]\n",
    "                               .rename(columns={'Team Name': 'Team Name Home', 'Team Short Name': 'Team Short Name Home'}), \n",
    "                               left_on='Home Team ID', \n",
    "                               right_on='Team ID')\n",
    "fixture_teams = fixture_teams.merge(teams[['Team Name', 'Team Short Name']]\n",
    "                                    .rename(columns={'Team Name': 'Team Name Away', 'Team Short Name': 'Team Short Name Away'}), \n",
    "                               left_on='Away Team ID', \n",
    "                               right_on='Team ID')\n",
    "fixture_teams = dd.reorder(fixture_teams)\n",
    "# Uncomment to view data: dd.display(fixture_teams, head=10)"
   ]
  },
  {
   "cell_type": "markdown",
   "metadata": {},
   "source": [
    "## Player derived fields and metrics\n",
    "The section below derives a few useful player attributes but most importantly, it calculates the total points earned by a player devided by his current cost. This is can be an indicator for whether the player is undervalued or overpriced."
   ]
  },
  {
   "cell_type": "code",
   "execution_count": null,
   "metadata": {
    "ExecuteTime": {
     "end_time": "2019-11-10T20:01:06.418589Z",
     "start_time": "2019-11-10T20:01:05.908952Z"
    }
   },
   "outputs": [],
   "source": [
    "def calc_consistency(s: pd.Series):\n",
    "    if s.count() == 0:\n",
    "        return None\n",
    "    \n",
    "    max_points = max(s)\n",
    "    if max_points == 0:\n",
    "        return np.nan\n",
    "    \n",
    "    return np.mean(s/max(s))*100\n",
    "\n",
    "def calc_stats(df: pd.DataFrame, game_week: int = None):\n",
    "    team_id = df['Player Team ID'].iloc[0]\n",
    "    \n",
    "    if not game_week is None:\n",
    "        df = df[df['Game Week'] <= game_week]\n",
    "    \n",
    "    s={'Total Points': df['Game Total Points'].sum(),\n",
    "       'Total Points Consistency': calc_consistency(df['Game Total Points']),\n",
    "       'Player Team ID': team_id}\n",
    "    \n",
    "    return pd.Series(s)\n",
    "    \n",
    "players_history_fixtures = players_history[['Game Total Points', 'Game Minutes Played', 'Game Cost']].reset_index() \\\n",
    "    .merge(fixtures, left_on='Fixture ID', right_index=True).set_index('Player ID')\n",
    "players_history_fixtures = players_history_fixtures.merge(players[['Player Team ID', 'Field Position']], left_index=True, right_index=True)\n",
    "players_history_stats = players_history_fixtures.groupby(['Player ID']).apply(lambda df: calc_stats(df))\n",
    "player_teams_stats = player_teams.reset_index().merge(players_history_stats[['Total Points Consistency']], left_on='Player ID', right_on='Player ID')\\\n",
    "    .sort_values(['Total Points Consistency'], ascending=False).set_index('Player ID')\n",
    "player_teams_stats['Points Per Cost'] = player_teams['Total Points']/player_teams['Current Cost']\n",
    "\n",
    "# Add the total points from the last season to the player stats so it can be used for the expected point calculation at the beginning of the season.\n",
    "players_history_last_season = players_history_past.reset_index()[['Player ID', 'Season', 'Season Total Points']]\n",
    "players_history_last_season = players_history_last_season[players_history_last_season['Season'] == last_season].rename(columns={'Season Total Points': 'Last Season Total Points'})\n",
    "player_teams_stats = player_teams_stats.merge(players_history_last_season.set_index('Player ID'), left_index=True, right_index=True, how='left')\n",
    "\n",
    "player_teams_stats = dd.reorder(player_teams_stats)\n",
    "# Uncomment to view data: dd.display(player_teams_stats, head=15)"
   ]
  },
  {
   "cell_type": "markdown",
   "metadata": {},
   "source": [
    "## Fixture metrics\n",
    "In order to calculate relative strengths of the teams, we aggregate the points that the team has earned so far. We later can use this information to adjust the expected points for each player."
   ]
  },
  {
   "cell_type": "code",
   "execution_count": null,
   "metadata": {},
   "outputs": [],
   "source": [
    "team_points = player_teams_stats.reset_index().groupby(['Player Team ID', 'Team Name', 'Team Short Name'])[['Total Points']].sum().sort_values('Total Points', ascending=False)\n",
    "team_points = team_points.reset_index().set_index('Player Team ID')\n",
    "dd.display(team_points, excel_file='team_points.xlsx', head=50)"
   ]
  },
  {
   "cell_type": "code",
   "execution_count": null,
   "metadata": {
    "ExecuteTime": {
     "end_time": "2019-11-10T19:25:42.865523Z",
     "start_time": "2019-11-10T19:25:42.850563Z"
    }
   },
   "outputs": [],
   "source": [
    "fixture_teams = fixture_teams.merge(team_points[['Total Points']].rename(columns={'Total Points': 'Fixture Strength Home'}), left_on='Home Team ID', right_on='Player Team ID')\n",
    "fixture_teams = fixture_teams.merge(team_points[['Total Points']].rename(columns={'Total Points': 'Fixture Strength Away'}), left_on='Away Team ID', right_on='Player Team ID')\n",
    "fixture_teams['Rel. Fixture Strength Home'] = fixture_teams['Fixture Strength Home']/fixture_teams['Fixture Strength Away']\n",
    "fixture_teams['Rel. Fixture Strength Away'] = fixture_teams['Fixture Strength Away']/fixture_teams['Fixture Strength Home']\n",
    "fixture_teams['Fixture Short Name'] = fixture_teams['Team Short Name Home']+'-'+fixture_teams['Team Short Name Away']\n",
    "fixture_teams = dd.reorder(fixture_teams)\n",
    "# Uncomment to view data:  dd.display(fixture_teams.sort_values(['Game Week']), excel_file='fixture_teams.xlsx', head=50)"
   ]
  },
  {
   "cell_type": "markdown",
   "metadata": {},
   "source": [
    "Calculates the strength metrics for each fixture from the team's point of view."
   ]
  },
  {
   "cell_type": "code",
   "execution_count": null,
   "metadata": {
    "ExecuteTime": {
     "end_time": "2019-11-10T19:25:42.961266Z",
     "start_time": "2019-11-10T19:25:42.867519Z"
    }
   },
   "outputs": [],
   "source": [
    "# Unfold data frame so that there a two rows for each fixture.\n",
    "team_fixture_strength = pd.melt(fixture_teams[['Game Week', 'Finished', 'Kick Off Time', 'Home Team ID', 'Team Name Home', 'Away Team ID', 'Fixture Short Name', 'Fixture Strength Home', 'Fixture Strength Away', 'Rel. Fixture Strength Home', 'Rel. Fixture Strength Away', 'Home Team Difficulty', 'Away Team Difficulty']],\\\n",
    "        id_vars=['Game Week', 'Finished', 'Kick Off Time', 'Fixture Strength Home', 'Fixture Strength Away', 'Rel. Fixture Strength Home', 'Rel. Fixture Strength Away', 'Home Team Difficulty', 'Away Team Difficulty', 'Fixture Short Name'], \n",
    "        value_vars=['Home Team ID', 'Away Team ID'])\\\n",
    "    .rename(columns={'variable': 'Variable', 'value': 'Value'})\\\n",
    "    .sort_values(['Game Week'])\n",
    "\n",
    "# Get the correct strength based on whether the team is the home or away team.\n",
    "team_fixture_strength['Rel. Fixture Strength'] = team_fixture_strength.apply(lambda row: row['Rel. Fixture Strength Home'] if row['Variable'] == 'Home Team ID' else row['Rel. Fixture Strength Away'], axis=1)\n",
    "team_fixture_strength['Team Difficulty'] = team_fixture_strength.apply(lambda row: row['Home Team Difficulty'] if row['Variable'] == 'Home Team ID' else row['Away Team Difficulty'], axis=1)\n",
    "team_fixture_strength = team_fixture_strength.rename(columns={'Value': 'Team ID'}).drop('Variable', axis=1)\n",
    "\n",
    "team_fixture_strength = team_fixture_strength.merge(teams, left_on='Team ID', right_on='Team ID')\n",
    "team_fixture_strength = dd.reorder(team_fixture_strength)\n",
    "# Uncomment to view data for a specific game week: dd.display(team_fixture_strength[team_fixture_strength['Game Week'] == 5])\n",
    "# Uncomment to view data: dd.display(team_fixture_strength, excel_file='team_fixture_strength.xlsx')"
   ]
  },
  {
   "cell_type": "markdown",
   "metadata": {},
   "source": [
    "# Explore players based on expected points for different time horizons\n",
    "The forecast of the points earned by each player for a specific time horizon is based on the average points earned over the past fixtures this season and then adjusting it for the difficulty of the upcoming fixtures over specific time horizon and likelihood of playing. It is calculated for every player as:\n",
    "\n",
    "$$ep_{th} = \\frac{tp}{gw}\\sum_{i=1}^{t} p_i\\frac{\\sum_{i=1}^{th} s_i}{s_{gw}} $$\n",
    "\n",
    "where\n",
    "\n",
    "* $ep_{th}$: Expected points for a players over a specific time horizon, e.g. next game week, next five game weeks, remaining game weeks of the current season half and remaining game weeks of the current season\n",
    "* $tp$: Total points earned by the player this season so far\n",
    "* $gw$: Number of game weeks completed so far\n",
    "* $s_i$: Relative strenth of a specific upcoming fixture for the team of the player. This value is usally just over 1 if the player's team is relatively to stronger and less than 1 if it is weaker.\n",
    "* $s_{gw}$: Relative strenth of fixtures this season so far for the team of the player\n",
    "* $p_i$: Chance of player playing in an upcoming fixture\n",
    "\n",
    "This approach the following limitations:\n",
    "* Expected points are solely predicted based on the past performance and no other information such as recent news is taken into account.\n",
    "* All past performance this season is considered equal, regardless of how long ago it was. I.e. there is no recency bias.\n",
    "* Past perforamnce does not take into account why a player has not earned any points during a game. It matters whether this due to manager selection or due to inhjury.\n",
    "* The relative strengths are calculated based on many assumptions and the full meaning of the raw strength numbers published by FPL is not clear.\n",
    "* The adjustment for the chance of the player playing really should be made on a per game basis as opposed to the overall expected points (but given the accuracy of the chance of playing this is probably a minor issue).\n",
    "\n",
    "The next step is to backtest the predictions.\n",
    "\n",
    "## Calculate relative fixture strengths\n",
    "Calculates a relative fixtures strengths $s$ for each team for the following time horizons:\n",
    "* all played game weeks\n",
    "* the next game week (mainly for Free Hit)\n",
    "* the next five game weeks (mainly for individuals transfers)\n",
    "* the remaining game weeks of the current season half (mainly for Wildcard)\n",
    "* the remaining game weeks of the current season\n",
    "\n",
    "The relative strength is a factor around 1 and is used in the expected point prediction below to adjust the predicted points based on the relative strengths of the upcoming game weeks. The simple idea here is that the relative strong a team is the higher the expected points. A value above 1 indicates that the player's team is relatively stronger and a value below 1 indicates that the team is relatively weaker. "
   ]
  },
  {
   "cell_type": "code",
   "execution_count": null,
   "metadata": {
    "ExecuteTime": {
     "end_time": "2019-11-10T19:25:43.529747Z",
     "start_time": "2019-11-10T19:25:42.963262Z"
    }
   },
   "outputs": [],
   "source": [
    "# Get current game week. Only when all fixtures are completed is this number incremented.\n",
    "current_gw = max(0, team_fixture_strength[team_fixture_strength['Finished'] == False]['Game Week'].min())\n",
    "total_game_weeks = team_fixture_strength['Game Week'].max()\n",
    "\n",
    "# Aggregate the strengths on a team ID basis for all past fixtures and for future ones.\n",
    "def calc_future_strengths(df: pd.DataFrame, game_week: int = None) -> pd.Series:\n",
    "    def calc_strength(df: pd.DataFrame, backward: bool, game_week: int, gw_count: int) -> int:\n",
    "        return df[(df['Game Week'] <= game_week) & backward | (df['Game Week'] > game_week) & (not backward)].head(gw_count)['Rel. Fixture Strength'].sum()/max(gw_count, 1)\n",
    "    \n",
    "    def get_fixtures(df: pd.DataFrame, game_week: int, gw_count: int) -> int:\n",
    "        df['Fixture Short Name Difficulty'] = df['Fixture Short Name']+' ('+df['Team Difficulty'].astype('str')+')'\n",
    "        return df[df['Game Week'] > game_week].head(gw_count)['Fixture Short Name Difficulty'].str.cat(sep=', ') \n",
    "    \n",
    "    if game_week is None:\n",
    "        game_week = max(1, df[df['Finished'] == True]['Game Week'].max())\n",
    "        \n",
    "    df = df.sort_values(['Game Week'])\n",
    "    half_game_weeks = int(total_game_weeks/2)\n",
    "    remain_half_game_weeks = half_game_weeks-game_week if game_week < half_game_weeks else total_game_weeks-game_week\n",
    "    remain_game_weeks = total_game_weeks-game_week\n",
    "    \n",
    "    # Determines the number of game weeks to look ahead but not beyond end of season\n",
    "    s = {}\n",
    "    s['Game Week'] = game_week\n",
    "    s['Next GW'] = min(1, total_game_weeks-game_week)\n",
    "    s['Next 5 GWs'] = min(5, total_game_weeks-game_week)\n",
    "    s['GWs To Half'] = min(int(total_game_weeks/2), remain_half_game_weeks)\n",
    "    s['GWs To End'] = remain_game_weeks\n",
    "    \n",
    "    s['Rel. Fixture Strength Finished GWs'] = calc_strength(df, True, game_week, game_week)\n",
    "    s={**s, **dict(('Rel. Fixture Strength '+next_gw, \n",
    "                    calc_strength(df, False, game_week, s[next_gw])) for next_gw in next_gws)}\n",
    "    s={**s, **dict(('Fixtures '+next_gw, \n",
    "                    get_fixtures(df, game_week, s[next_gw])) for next_gw in next_gws[:2])}\n",
    "    return pd.Series(s)\n",
    "   \n",
    "team_fixture_strengths = team_fixture_strength.groupby(['Team ID']).apply(lambda df: calc_future_strengths(df))\n",
    "team_fixture_strengths = teams.merge(team_fixture_strengths, left_on='Team ID', right_on = 'Team ID')\n",
    "team_fixture_strengths = team_fixture_strengths.sort_values(['Rel. Fixture Strength GWs To End'], ascending=False)\n",
    "team_fixture_strengths = dd.reorder(team_fixture_strengths)\n",
    "# Uncomment to view data: dd.display(team_fixture_strengths, head=5, excel_file='team_fixture_strengths.xlsx')"
   ]
  },
  {
   "cell_type": "markdown",
   "metadata": {},
   "source": [
    "## Transfer relative fixture strengths from team to players\n",
    "This section joins the fixture strengths data set with the player data set so that expected points can be calculated on a player basis."
   ]
  },
  {
   "cell_type": "code",
   "execution_count": null,
   "metadata": {
    "ExecuteTime": {
     "end_time": "2019-11-10T19:25:43.565651Z",
     "start_time": "2019-11-10T19:25:43.541715Z"
    }
   },
   "outputs": [],
   "source": [
    "player_team_fixture_strengths = player_teams_stats.reset_index().merge(team_fixture_strengths[['Game Week', 'Next GW', 'Next 5 GWs', 'GWs To Half', 'GWs To End', 'Rel. Fixture Strength Finished GWs', 'Rel. Fixture Strength Next GW', 'Rel. Fixture Strength Next 5 GWs', 'Rel. Fixture Strength GWs To Half', 'Rel. Fixture Strength GWs To End', 'Fixtures Next GW', 'Fixtures Next 5 GWs' ]],\n",
    "                                                  left_on='Player Team ID', right_on='Team ID').set_index('Player ID')\n",
    "player_team_fixture_strengths = dd.reorder(player_team_fixture_strengths)\n",
    "# Uncomment to view data: dd.display(player_team_fixture_strengths, head=5)"
   ]
  },
  {
   "cell_type": "markdown",
   "metadata": {},
   "source": [
    "## Calculates the expected points for the following time horizons\n",
    "Calculates the expected points for the following time horizons:\n",
    "* the next game week (mainly for Free Hit)\n",
    "* the next five game weeks (mainly for individuals transfers)\n",
    "* the remaining game weeks of the current season half (mainly for Wildcard)\n",
    "* the remaining game weeks of the current season\n",
    "\n",
    "The expected return simply calculates the average number of points achieved of the past game week and extrapolates them over the next x game weeks. This number is then adjusted by the ratio of the relative strength of upcoming fixtures and the relative strength of the past ones and for each player by the propability of the player being available to play."
   ]
  },
  {
   "cell_type": "code",
   "execution_count": null,
   "metadata": {
    "ExecuteTime": {
     "end_time": "2019-11-11T22:58:39.733546Z",
     "start_time": "2019-11-11T22:58:39.375504Z"
    }
   },
   "outputs": [],
   "source": [
    "total_game_weeks = fixtures['Game Week'].max()\n",
    "\n",
    "def calc_expected_points(row: pd.Series, adjust_for_strength = True) -> pd.Series:\n",
    "    def calc_expected_points_gw(row: pd.Series, post_fix: str, adjust_for_strength) -> pd.Series:\n",
    "        def calc_chance_avail_gw(chance_av_gw: float, chance_av_gw_after_next: float, gw_count: int) -> float:\n",
    "            if gw_count == 0: return 0\n",
    "            # Assume that player is avaiable the 3rd game week from the current one onwarwds except if 2nd game week chance is 0.\n",
    "            if gw_count == 1 or gw_count > 1 and chance_av_gw == 0: return chance_av_gw\n",
    "            return chance_av_gw+chance_av_gw+(gw_count-2)*100 \n",
    "\n",
    "        if row['Game Week'] == 0: # If the season has not started, calculate the average based on the last season.\n",
    "            expected_points = row['Last Season Total Points']/38\n",
    "        else: # Otherwise calculate the average points per game week.\n",
    "            expected_points = row['Total Points']/row['Game Week']\n",
    "      \n",
    "            if adjust_for_strength:\n",
    "                expected_points *= row['Rel. Fixture Strength '+post_fix]/row['Rel. Fixture Strength Finished GWs']\n",
    "        \n",
    "        # Only adjust expected points for chance of playing if this information is available. E.g. it is not available when using historic data for back testing.\n",
    "        if 'Chance Avail Next GW' in row and 'Chance Avail After Next GW' in row:\n",
    "            expected_points *= calc_chance_avail_gw(row['Chance Avail Next GW'], row['Chance Avail After Next GW'], row[post_fix])/100\n",
    "        else:\n",
    "            expected_points *= row[post_fix]\n",
    "            \n",
    "        return expected_points\n",
    "    \n",
    "    s=dict(('Expected Points '+next_gw, calc_expected_points_gw(row, next_gw, adjust_for_strength)) for next_gw in next_gws)\n",
    "    return pd.Series(s)\n",
    "\n",
    "player_team_expected_points = player_team_fixture_strengths.copy()\n",
    "player_team_expected_points[['Expected Points '+next_gw for next_gw in next_gws]] = player_team_expected_points.apply(lambda row: calc_expected_points(row), axis=1)\n",
    "# Uncomment to view data: dd.display(player_team_expected_points, excel_file='player_team_expected_points.xlsx', head=10)    "
   ]
  },
  {
   "cell_type": "markdown",
   "metadata": {},
   "source": [
    "## Visualise players' earned points per cost and the expected points"
   ]
  },
  {
   "cell_type": "code",
   "execution_count": null,
   "metadata": {},
   "outputs": [],
   "source": [
    "def player_strength_by_horizon(player_expected_points: pd.DataFrame, horizon: str, dd: pd.DataFrame):\n",
    "    \"\"\"\n",
    "    Returns a plotly chart with expected points as the y-axis and cost on the x-axis for a specific time horizon. This chart can be displayed in the Jupyter notebook.\n",
    "\n",
    "    Args:\n",
    "        player_expected_points: The data frame with data to chart.\n",
    "        horizon: The time horizon of the chart, e.g. Next GW, Next 5 GWs, etc.\n",
    "        dd: The data dictionary to use for formatting.\n",
    "\n",
    "    Returns:\n",
    "        The plotly chart.\n",
    "    \"\"\"\n",
    "    player_expected_points = player_expected_points[\n",
    "        ['Name and Short Team', 'Field Position', 'Current Cost', 'Total Points', 'Points Per Cost', 'Minutes Percent', 'News And Date', 'Fixtures Next 5 GWs', 'photo', 'ICT Index', 'Total Points Consistency']\n",
    "        + ['Expected Points ' + next_gw for next_gw in next_gws]\n",
    "        + ['Rel. Fixture Strength ' + next_gw for next_gw in next_gws]\n",
    "        + (['In Team?'] if 'In Team?' in player_expected_points.columns.values else [])]\n",
    "    player_expected_points_formatted = dd.format(player_expected_points)\n",
    "    player_expected_points['Label'] = player_expected_points_formatted['Name and Short Team'] \\\n",
    "                                      + ', ' + player_expected_points_formatted['Field Position'] \\\n",
    "                                      + ', Cost: ' + player_expected_points_formatted['Current Cost'] \\\n",
    "                                      + ', Total Points: ' + player_expected_points_formatted['Total Points'] \\\n",
    "                                      + '<br>Minutes Percent: ' + player_expected_points_formatted['Minutes Percent'] \\\n",
    "                                      + ', Consistency: ' + player_expected_points_formatted['Total Points Consistency'] \\\n",
    "                                      + ', ICT: ' + player_expected_points_formatted['ICT Index'] \\\n",
    "                                      + ', Rel. Strength: ' + player_expected_points_formatted['Rel. Fixture Strength '+horizon] \\\n",
    "                                      + '<br>Next: ' + player_expected_points_formatted['Fixtures Next 5 GWs'].astype('str') \\\n",
    "                                      + '<br>News: ' + player_expected_points_formatted['News And Date'].astype('str')\n",
    "\n",
    "    colors = {'GK': 'rgba(31, 119, 180, 1)', 'DEF': 'rgba(255, 127, 14, 1)', 'MID': 'rgba(44, 160, 44, 1)', 'FWD': 'rgba(214, 39, 40, 1)'}\n",
    "\n",
    "    data = []\n",
    "    if 'In Team?' in player_expected_points.columns.values:\n",
    "        data += [Scatter(**{\n",
    "            'x': player_expected_points[player_expected_points['In Team?'] == True]['Current Cost'],\n",
    "            'y': player_expected_points[player_expected_points['In Team?'] == True]['Expected Points ' + horizon],\n",
    "            'mode': 'markers',\n",
    "            'marker': {\n",
    "                'size': 15,\n",
    "                'color': 'white',\n",
    "                'line': {'width': 1},\n",
    "            },\n",
    "            'name': 'In Team',\n",
    "            'text': player_expected_points[player_expected_points['In Team?'] == True]['Label']})]\n",
    "\n",
    "    data += [Scatter(**{\n",
    "        'x': player_expected_points[player_expected_points['Field Position'] == position]['Current Cost'],\n",
    "        'y': player_expected_points[player_expected_points['Field Position'] == position]['Expected Points ' + horizon],\n",
    "        'name': position,\n",
    "        'mode': 'markers',\n",
    "        'marker': {\n",
    "            'color': colors[position],\n",
    "        },\n",
    "        'text': player_expected_points[player_expected_points['Field Position'] == position]['Label']\n",
    "    }) for position in position_by_type.values()]\n",
    "\n",
    "    return (py.iplot(\n",
    "        {\n",
    "            'data': data,\n",
    "            'layout': {\n",
    "                'xaxis': {'title': 'Current Cost (lower is better)'},\n",
    "                'yaxis': {'title': f'Expected Points {horizon} (higher is better)'},\n",
    "                'hovermode': 'closest'\n",
    "            }\n",
    "        }\n",
    "    ))"
   ]
  },
  {
   "cell_type": "code",
   "execution_count": null,
   "metadata": {
    "ExecuteTime": {
     "end_time": "2019-11-11T20:13:40.699223Z",
     "start_time": "2019-11-11T20:13:40.490781Z"
    }
   },
   "outputs": [],
   "source": [
    "_ = interact(player_strength_by_horizon, player_expected_points=fixed(player_team_expected_points), dd=fixed(dd), horizon=widgets.ToggleButtons(description='Horizon: ', options=next_gws))"
   ]
  },
  {
   "cell_type": "markdown",
   "metadata": {},
   "source": [
    "# Load user team data\n",
    "This section loads the data of the user's team. **Note this requires your user credentials to be saved in fpl_credentials.csv in the same directory as this notebook.**"
   ]
  },
  {
   "cell_type": "code",
   "execution_count": null,
   "metadata": {
    "ExecuteTime": {
     "end_time": "2019-11-10T19:25:44.844232Z",
     "start_time": "2019-11-10T19:25:44.833262Z"
    }
   },
   "outputs": [],
   "source": [
    "creds_file = 'fpl_credentials.csv'\n",
    "if not 'fpl_email' in globals(): fpl_email = ''\n",
    "user_widget, pass_widget = [None, None]\n",
    "if os.path.exists(creds_file):\n",
    "    fpl_cred = pd.read_csv('fpl_credentials.csv')\n",
    "    fpl = FPLPandas(**fpl_cred.iloc[0].to_dict())\n",
    "else:\n",
    "    user_widget = widgets.Text(value=fpl_email, placeholder='Enter FPL email address', description='Email')\n",
    "    pass_widget = widgets.Text(value='', placeholder='Enter FPL password', description='Password')\n",
    "    display(widgets.HBox([user_widget, pass_widget]))"
   ]
  },
  {
   "cell_type": "code",
   "execution_count": null,
   "metadata": {
    "ExecuteTime": {
     "end_time": "2019-11-10T19:25:45.602205Z",
     "start_time": "2019-11-10T19:25:44.846228Z"
    }
   },
   "outputs": [],
   "source": [
    "if not user_widget is None and not pass_widget is None:\n",
    "    fpl_email = user_widget.value\n",
    "    fpl = FPLPandas(email=fpl_email, password=pass_widget.value)\n",
    "\n",
    "try:\n",
    "    user_team_raw, _, user_trans_info_raw = fpl.get_user_team()\n",
    "except Exception as e:\n",
    "    print(e)\n",
    "    \n",
    "if not pass_widget is None:\n",
    "    pass_widget.value = ''"
   ]
  },
  {
   "cell_type": "code",
   "execution_count": null,
   "metadata": {
    "ExecuteTime": {
     "end_time": "2019-11-10T19:25:45.622152Z",
     "start_time": "2019-11-10T19:25:45.603203Z"
    }
   },
   "outputs": [],
   "source": [
    "user_team = dd.remap(user_team_raw, data_set='player')\n",
    "user_team['In Team?'] = True\n",
    "user_team['Selling Price'] = user_team['Selling Price']/10\n",
    "user_team['Purchase Price'] = user_team['Purchase Price']/10\n",
    "user_team['Selected?'] = user_team['Team Position'].map(lambda x: x <= 11)\n",
    "user_team.index = user_team.index.rename('Player ID')\n",
    "user_trans_info = user_trans_info_raw.loc[0]"
   ]
  },
  {
   "cell_type": "markdown",
   "metadata": {},
   "source": [
    "## Current team"
   ]
  },
  {
   "cell_type": "code",
   "execution_count": null,
   "metadata": {
    "ExecuteTime": {
     "end_time": "2019-11-10T19:25:45.849545Z",
     "start_time": "2019-11-10T19:25:45.623149Z"
    }
   },
   "outputs": [],
   "source": [
    "player_user_team = user_team.merge(player_team_expected_points, left_on='Player ID', right_on='Player ID', how='left')\n",
    "display_team(player_user_team, dd)"
   ]
  },
  {
   "cell_type": "code",
   "execution_count": null,
   "metadata": {
    "ExecuteTime": {
     "end_time": "2019-11-10T19:25:46.272414Z",
     "start_time": "2019-11-10T19:25:45.952271Z"
    }
   },
   "outputs": [],
   "source": [
    "_ = interact(player_strength_by_horizon, player_expected_points=fixed(user_team.merge(player_team_expected_points, left_on='Player ID', right_on='Player ID', how='outer')),\n",
    "             dd=fixed(dd), horizon=widgets.ToggleButtons(description='Horizon: ', options=next_gws))"
   ]
  },
  {
   "cell_type": "markdown",
   "metadata": {},
   "source": [
    "# Get best team for wildcard or season start\n",
    "You can use the code below to get the best team for a wildcared or at the start of the season. It uses the [PuLP linear optimiser](https://pythonhosted.org/PuLP/) to find the team combination within the current money available with the highest total expected points of the over the next five gameweeks."
   ]
  },
  {
   "cell_type": "code",
   "execution_count": null,
   "metadata": {
    "ExecuteTime": {
     "end_time": "2019-11-10T19:25:46.280392Z",
     "start_time": "2019-11-10T19:25:46.274409Z"
    }
   },
   "outputs": [],
   "source": [
    "total_budget = (user_trans_info['bank']+user_trans_info['value'])/10\n",
    "total_budget"
   ]
  },
  {
   "cell_type": "code",
   "execution_count": null,
   "metadata": {
    "ExecuteTime": {
     "end_time": "2019-11-10T19:25:50.182957Z",
     "start_time": "2019-11-10T19:25:46.282388Z"
    }
   },
   "outputs": [],
   "source": [
    "player_team_optimal = get_optimal_squad(player_team_expected_points, \n",
    "                                        optimise_team_on='Expected Points Next 5 GWs',\n",
    "                                        optimise_sel_on='Expected Points Next GW', \n",
    "                                        formation='2-5-5-3', \n",
    "                                        budget=total_budget)\\\n",
    "    .sort_values(['Field Position ID'])\n",
    "player_team_optimal = dd.reorder(player_team_optimal)\n",
    "display_team(player_team_optimal, dd)"
   ]
  },
  {
   "cell_type": "markdown",
   "metadata": {},
   "source": [
    "# Recommend selection or next GW and transfer for next 5 GWs\n",
    "Use this section to get a recommendation on what players to select to optimise the expected points of your team and to improve it by making transfers. You need to have provided your FPL credentials for this to work.\n",
    "\n",
    "It uses the PuLP linear optimiser to find the team combination within the current money available with the highest total expected points of the over the next five gameweeks while taking your current team into account for a user defined number of transfers. Note that when executing more than one transfer on the FPL website, 4 points will be deducted from your balance for every transfer.\n",
    "\n",
    "It uses the same PuLP linear optimiser to find the selection with the highest expected points for the next game week.\n",
    "\n",
    "## Recommended team"
   ]
  },
  {
   "cell_type": "code",
   "execution_count": null,
   "metadata": {
    "ExecuteTime": {
     "end_time": "2019-11-10T19:25:54.271027Z",
     "start_time": "2019-11-10T19:25:50.183955Z"
    }
   },
   "outputs": [],
   "source": [
    "# Gets the cost and player ID of the second goal keeper so that the optimiser does not recommend his replacement.\n",
    "second_gk = player_user_team[player_user_team['Field Position'] == 'GK'].sort_values('Expected Points Next GW')[['Current Cost']].iloc[0]\n",
    "second_gk_cost = second_gk.values[0]\n",
    "second_gk_id = second_gk.name\n",
    "\n",
    "player_team_expected_points_user = user_team.merge(player_team_expected_points, left_on='Player ID', right_on='Player ID', how='right')\n",
    "player_team_optimal = (get_optimal_squad(player_team_expected_points_user, \n",
    "                                        optimise_team_on='Expected Points Next 5 GWs',\n",
    "                                        optimise_sel_on='Expected Points Next GW', \n",
    "                                        formation='1-5-5-3', # Not 2-5-5-3 if we want to avoid the transfer of the second goal keeper recommended.\n",
    "                                        budget=total_budget-second_gk_cost, # Not just total_budget if we want to avoid the transfer of the second goal keeper recommended.\n",
    "                                        recommend=1) # If set to 0, the optimiser will still recommend a team selection that maximises the expected points.\\\n",
    "    .sort_values(['Field Position ID']))\n",
    "player_team_optimal = dd.reorder(player_team_optimal)\n",
    "display_team(player_team_optimal, dd, in_team=True)"
   ]
  },
  {
   "cell_type": "code",
   "execution_count": null,
   "metadata": {
    "ExecuteTime": {
     "end_time": "2019-11-10T19:25:54.344830Z",
     "start_time": "2019-11-10T19:25:54.273022Z"
    }
   },
   "outputs": [],
   "source": [
    "player_team_removed = player_user_team[(player_user_team['In Team?'] == True) \n",
    "                                       & (player_user_team.index.isin(player_team_optimal.index.values) == False)\n",
    "                                      & (player_user_team.index.isin([second_gk_id]) == False)]\n",
    "dd.display(player_team_removed[['Name', 'Current Cost', 'Field Position', 'Captain?', 'Vice Captain?', 'Minutes Percent', 'News And Date', 'Expected Points Next GW', 'Expected Points Next 5 GWs', 'Total Points Consistency']],\n",
    "           index=False, footer=False, descriptions=False)"
   ]
  },
  {
   "cell_type": "markdown",
   "metadata": {},
   "source": [
    "# Select a good week to play free hit\n",
    "The idea is that there are game weeks when there are fixtures with large differences in team strengths than in others. This is the case when stronger teams mainly play weaker teams. The assumptions is that these game weeks have higher potential for earning points for the stronger teams. The list below shows the game weeks sorted by the average relative fixture strength (of the four fixtures with the highest relative fixture strength)."
   ]
  },
  {
   "cell_type": "code",
   "execution_count": null,
   "metadata": {
    "ExecuteTime": {
     "end_time": "2019-11-10T19:25:54.393699Z",
     "start_time": "2019-11-10T19:25:54.346826Z"
    }
   },
   "outputs": [],
   "source": [
    "(team_fixture_strength.groupby('Game Week')['Rel. Fixture Strength']\\\n",
    " .apply(lambda x: x.nlargest(4)).sum(level=0)/4)\\\n",
    " .sort_values(ascending=False).to_frame().head(10)"
   ]
  },
  {
   "cell_type": "markdown",
   "metadata": {},
   "source": [
    "# How predictive is the ICT index?\n",
    "The Fantasy Premier League website says:\n",
    ">The ICT Index is a football statistical index developed specifically to assess a player as an FPL asset. It uses match event data to generate a single score for three key areas – Influence, Creativity and Threat. These figures then combine to create an individual’s ICT Index score. It condenses more than 40 match event statistics into four distinct scores. These offer a view on player performance for factors that are known to produce FPL points. See https://fantasy.premierleague.com/help\n",
    "\n",
    "So as the season progresses the chart should converge to a line if the index is indeed predictive."
   ]
  },
  {
   "cell_type": "code",
   "execution_count": null,
   "metadata": {
    "ExecuteTime": {
     "end_time": "2019-11-10T19:25:54.507395Z",
     "start_time": "2019-11-10T19:25:54.394696Z"
    }
   },
   "outputs": [],
   "source": [
    "# Calculate a fitted straight line to show what the ideal would look like\n",
    "from sklearn.linear_model import LinearRegression\n",
    "from sklearn.model_selection import train_test_split\n",
    "\n",
    "\n",
    "# Count the number of players\n",
    "player_count = player_teams.shape[0]\n",
    "\n",
    "# Split the data into training/testing sets\n",
    "total_points = np.reshape(player_teams['Total Points'].values, (player_teams.shape[0], 1))\n",
    "itc_index = np.reshape(player_teams['ICT Index'].values, (player_teams.shape[0], 1))\n",
    "total_points_train, total_points_test, itc_index_train, itc_index_test = train_test_split(total_points, itc_index, test_size = 0.4, random_state = 1)\n",
    "\n",
    "# Train linear regression model\n",
    "regr = LinearRegression()\n",
    "_ = regr.fit(total_points_train, itc_index_train)\n",
    "\n",
    "# Make predictions using the testing set\n",
    "itc_index_pred = regr.predict(total_points_test)\n",
    "\n",
    "# The coefficients\n",
    "print(f'Coefficients: {regr.coef_[0][0]:.2f} ')\n",
    "# The mean squared error\n",
    "print(f'Mean squared error: {np.mean((regr.predict(itc_index_test) - itc_index_pred) ** 2):.2f}')\n",
    "# Explained variance score: 1 is perfect prediction\n",
    "print(f'Variance score: {regr.score(total_points_test, itc_index_pred):.2f}')"
   ]
  },
  {
   "cell_type": "code",
   "execution_count": null,
   "metadata": {
    "ExecuteTime": {
     "end_time": "2019-11-10T19:25:54.583192Z",
     "start_time": "2019-11-10T19:25:54.509390Z"
    }
   },
   "outputs": [],
   "source": [
    "fig = {\n",
    "    'data': [\n",
    "        {'x': player_teams['Total Points'], 'y': player_teams['ICT Index'], 'text': player_teams['Name and Short Team'], 'mode': 'markers', 'name': 'Data'},\n",
    "        {'x': np.reshape(total_points_test,  (1, total_points_test.shape[0]))[0], 'y': np.reshape(regr.predict(total_points_test), (1, total_points_test.shape[0]))[0], 'mode': 'lines', 'name': 'Ideal (fully predictive)'}\n",
    "    ],\n",
    "    'layout': {\n",
    "        'xaxis': {'title': 'Total Point'},\n",
    "        'yaxis': {'title': 'ICT Index'}\n",
    "    }\n",
    "}\n",
    "py.iplot(fig)"
   ]
  },
  {
   "cell_type": "markdown",
   "metadata": {},
   "source": [
    "# Back test the expected points\n",
    "The basic idea of testing the predictions is to look at each past game week, predict the expected points for the game week (both adjusted for relative team strengths and not adjusted), optimise the team based on the expected points and then calculate the total expected points for the optimised team (only for the selected player). For validation, we calculate the actual points of the players of the optimised team. We also calculate the points of the dream team, i.e. the total points of the team with highest actual points for each game week."
   ]
  },
  {
   "cell_type": "code",
   "execution_count": null,
   "metadata": {
    "ExecuteTime": {
     "end_time": "2019-11-12T22:27:36.713568Z",
     "start_time": "2019-11-12T22:27:18.345681Z"
    }
   },
   "outputs": [],
   "source": [
    "from sklearn.metrics import mean_absolute_error\n",
    "import timeit\n",
    "\n",
    "def get_optimal_team_exp(player_team_fixture_strengths_gw: pd.DataFrame, players_history_fixtures_gw: pd.DataFrame, adjust_for_strength: bool) -> pd.DataFrame:\n",
    "    expected_points_next_gw = player_team_fixture_strengths_gw.apply(lambda row: calc_expected_points(row, adjust_for_strength=adjust_for_strength), axis=1)\n",
    "    expected_points_next_gw = expected_points_next_gw.merge(players_history_fixtures_gw, left_index=True, right_index=True).fillna({'Expected Points Next GW': 0})\n",
    "    player_team_optimal = get_optimal_squad(expected_points_next_gw, \n",
    "                                    optimise_team_on='Expected Points Next GW',\n",
    "                                    optimise_sel_on='Expected Points Next GW', \n",
    "                                    formation='2-5-5-3', \n",
    "                                    budget=100)\n",
    "    \n",
    "    return player_team_optimal[['Game Total Points', 'Expected Points Next GW', 'Point Factor', 'Selected?']]\n",
    " \n",
    "    \n",
    "def get_optimal_team_act(players_history_fixtures_gw: pd.DataFrame) -> pd.DataFrame:\n",
    "    player_team_optimal_act = get_optimal_squad(players_history_fixtures_gw, \n",
    "                                    optimise_team_on='Game Total Points',\n",
    "                                    optimise_sel_on='Game Total Points', \n",
    "                                    formation='2-5-5-3', \n",
    "                                    budget=100)\n",
    "    return player_team_optimal_act[['Game Total Points', 'Selected?']]  \n",
    "\n",
    "\n",
    "def calc_team_points(player_team: pd.DataFrame, points_col: str) -> float:\n",
    "    player_team = player_team[player_team['Selected?'] == True]\n",
    "    player_team['Points'] = player_team[points_col]\n",
    "    \n",
    "    if 'Point Factor' in player_team.columns.values:\n",
    "        player_team['Points'] *= player_team['Point Factor']\n",
    "\n",
    "    return player_team['Points'].sum()\n",
    "\n",
    "\n",
    "def calc_player_team_gw_exp(players_history_fixtures_gw: pd.DataFrame, team_fixture_strength: pd.DataFrame, gw: int) -> pd.DataFrame:\n",
    "    team_fixture_strengths_gw = team_fixture_strength.groupby(['Team ID']).apply(lambda df: calc_future_strengths(df, gw-1))\n",
    "    players_stats_gw = players_history_fixtures.groupby(['Player ID']).apply(lambda df: calc_stats(df, gw-1))\n",
    "    player_team_fixture_strengths_gw = players_stats_gw.reset_index() \\\n",
    "        .merge(team_fixture_strengths_gw[['Game Week', 'Next GW', 'Next 5 GWs', 'GWs To Half', 'GWs To End', 'Rel. Fixture Strength Finished GWs', 'Rel. Fixture Strength Next GW', 'Rel. Fixture Strength Next 5 GWs', 'Rel. Fixture Strength GWs To Half', 'Rel. Fixture Strength GWs To End', 'Fixtures Next GW', 'Fixtures Next 5 GWs' ]],\n",
    "                                                  left_on='Player Team ID', right_on='Team ID').set_index('Player ID')\n",
    "\n",
    "    player_team_fixture_strengths_gw = player_team_fixture_strengths_gw.filter(items = players_history_fixtures_gw.index.values, axis = 0)\n",
    "    return player_team_fixture_strengths_gw.merge(player_teams_stats[['Last Season Total Points']], left_index=True, right_index=True, how='left') \n",
    "        \n",
    "\n",
    "def back_test_gw(gw: int, players_history_fixtures: pd.DataFrame, team_fixture_strength: pd.DataFrame) -> dict: \n",
    "    players_history_fixtures_gw = players_history_fixtures[players_history_fixtures['Game Week'] == gw]\\\n",
    "        .rename(columns={'Game Cost': 'Current Cost'})[['Game Total Points', 'Player Team ID', 'Field Position', 'Current Cost']]\n",
    "    players_history_fixtures_gw['News And Date'] = None # Unfortunately, we don't have historic news information.\n",
    "    \n",
    "    player_team_gw_exp = calc_player_team_gw_exp(players_history_fixtures_gw, team_fixture_strength, gw)\n",
    "\n",
    "    player_team_optimal_exp = get_optimal_team_exp(player_team_gw_exp, players_history_fixtures_gw, adjust_for_strength=False)\n",
    "    player_team_optimal_exp_adj = get_optimal_team_exp(player_team_gw_exp, players_history_fixtures_gw, adjust_for_strength=True)\n",
    "    player_team_optimal_act = get_optimal_team_act(players_history_fixtures_gw)\n",
    "        \n",
    "    return {'Game Week': gw, \n",
    "            'Actual Points Dream Team': calc_team_points(player_team_optimal_act, 'Game Total Points'),\n",
    "            'Expected Points (unadjusted)': calc_team_points(player_team_optimal_exp, 'Expected Points Next GW'),\n",
    "            'Expected Points (adjusted)': calc_team_points(player_team_optimal_exp_adj, 'Expected Points Next GW'), \n",
    "            'Actual Points (unadjusted)': calc_team_points(player_team_optimal_exp, 'Game Total Points'),\n",
    "            'Actual Points (adjusted)': calc_team_points(player_team_optimal_exp_adj, 'Game Total Points')}\n",
    "    \n",
    "\n",
    "backtest_results = pd.DataFrame()\n",
    "for gw in log_progress(range(1, current_gw), name='Game weeks'):\n",
    "    backtest_results = backtest_results.append(back_test_gw(gw, players_history_fixtures, team_fixture_strength), ignore_index=True)\n",
    "\n",
    "py.iplot([{'x': backtest_results['Game Week'], \n",
    "           'y':  backtest_results[col], 'name': col} for col in ('Actual Points Dream Team', 'Expected Points (adjusted)', 'Actual Points (unadjusted)', 'Expected Points (unadjusted)', 'Actual Points (adjusted)')])"
   ]
  }
 ],
 "metadata": {
  "hide_input": false,
  "kernelspec": {
   "display_name": "Python 3",
   "language": "python",
   "name": "python3"
  },
  "language_info": {
   "codemirror_mode": {
    "name": "ipython",
    "version": 3
   },
   "file_extension": ".py",
   "mimetype": "text/x-python",
   "name": "python",
   "nbconvert_exporter": "python",
   "pygments_lexer": "ipython3",
   "version": "3.6.8"
  },
  "varInspector": {
   "cols": {
    "lenName": 16,
    "lenType": 16,
    "lenVar": 40
   },
   "kernels_config": {
    "python": {
     "delete_cmd_postfix": "",
     "delete_cmd_prefix": "del ",
     "library": "var_list.py",
     "varRefreshCmd": "print(var_dic_list())"
    },
    "r": {
     "delete_cmd_postfix": ") ",
     "delete_cmd_prefix": "rm(",
     "library": "var_list.r",
     "varRefreshCmd": "cat(var_dic_list()) "
    }
   },
   "types_to_exclude": [
    "module",
    "function",
    "builtin_function_or_method",
    "instance",
    "_Feature"
   ],
   "window_display": false
  }
 },
 "nbformat": 4,
 "nbformat_minor": 4
}
