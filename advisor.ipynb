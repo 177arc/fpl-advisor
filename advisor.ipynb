{
 "cells": [
  {
   "cell_type": "markdown",
   "metadata": {},
   "source": [
    "# Fantasy Premier League (FPL) Advisor\n",
    "\n",
    "# Purpose\n",
    "The purpose of this Jupyter notebook is to help with the selection of team members for the [Fantasy Premier League](https://fantasy.premierleague.com/) (FPL) by attempting to forecast how many points players will earn. It accesses the FPL API to download up-to-date stats, provides visual analysis and uses linear optimisation to recommend a team with the maximum expected points to improve the performance of your current team.\n",
    "\n",
    "If you are not familar with the Fantasy Permier League, you can watch this introduction:\n",
    "\n",
    "<a href=\"http://www.youtube.com/watch?v=SV_F-cL8fC0\" target=\"_blank\"><img src=\"http://img.youtube.com/vi/SV_F-cL8fC0/0.jpg\" \n",
    "alt=\"How to play FPL\" width=\"600\" height=\"400\"/></a>\n",
    "\n",
    "# Installation\n",
    "To get started, run the following command to install all required dependencies."
   ]
  },
  {
   "cell_type": "code",
   "execution_count": 1,
   "metadata": {
    "ExecuteTime": {
     "end_time": "2020-03-12T21:26:43.865419Z",
     "start_time": "2020-03-12T21:26:41.464272Z"
    }
   },
   "outputs": [
    {
     "name": "stderr",
     "output_type": "stream",
     "text": [
      "WARNING: You are using pip version 20.0.2; however, version 20.1.1 is available.\n",
      "You should consider upgrading via the 'c:\\users\\marc\\anaconda3\\python.exe -m pip install --upgrade pip' command.\n"
     ]
    }
   ],
   "source": [
    " !pip install -q -r ./requirements.txt"
   ]
  },
  {
   "cell_type": "markdown",
   "metadata": {},
   "source": [
    "# Import requirements\n",
    "Here we import all external and local modulues."
   ]
  },
  {
   "cell_type": "code",
   "execution_count": 2,
   "metadata": {
    "ExecuteTime": {
     "end_time": "2020-03-12T21:26:51.307161Z",
     "start_time": "2020-03-12T21:26:43.868411Z"
    }
   },
   "outputs": [],
   "source": [
    "import pandas as pd, re, datetime as dt, numpy as np, ipywidgets as widgets, os, sys, unittest\n",
    "from ipywidgets import interact, fixed\n",
    "from fplpandas import FPLPandas\n",
    "from datadict.jupyter import DataDict\n",
    "\n",
    "import tensorflow as tf\n",
    "\n",
    "# Load local modules\n",
    "sys.path.append(os.getcwd())\n",
    "from optimiser import get_optimal_squad\n",
    "from common import *\n",
    "from jupyter import *\n",
    "from data import *\n",
    "from nn import *\n",
    "\n",
    "from sklearn.linear_model import LinearRegression\n",
    "from sklearn.model_selection import train_test_split\n",
    "\n",
    "pd.set_option('display.max_columns', 100)"
   ]
  },
  {
   "cell_type": "markdown",
   "metadata": {},
   "source": [
    "# Set variables\n",
    "This section sets all important global variables."
   ]
  },
  {
   "cell_type": "code",
   "execution_count": 3,
   "metadata": {
    "ExecuteTime": {
     "end_time": "2020-03-12T21:26:51.313146Z",
     "start_time": "2020-03-12T21:26:51.308159Z"
    }
   },
   "outputs": [],
   "source": [
    "creds_file = 'fpl_credentials.csv' # Location of file holding the FPL user name and password. These are only required for the personalised recommendations in the second half of this notebook.\n",
    "\n",
    "fpl = FPLPandas() # Wrapper for access the FPL API and mapping the data into pandas data frames."
   ]
  },
  {
   "cell_type": "markdown",
   "metadata": {},
   "source": [
    "# Load data dictionary\n",
    "This section loads the data dictionary. The data dictionary contains default ordering of fields, for each field a description, default format and mapping of API field names to more readable ones. It is used to show data in a more user-friendly way."
   ]
  },
  {
   "cell_type": "code",
   "execution_count": 4,
   "metadata": {
    "ExecuteTime": {
     "end_time": "2020-03-12T21:26:51.337082Z",
     "start_time": "2020-03-12T21:26:51.315141Z"
    }
   },
   "outputs": [],
   "source": [
    "dd = DataDict(data_dict_file=f'./data_dictionary.csv')"
   ]
  },
  {
   "cell_type": "markdown",
   "metadata": {},
   "source": [
    "# Load player data\n",
    "This section loads the player data and stats from the following FPL API endpoint: https://fantasy.premierleague.com/api/bootstrap-static/ and returns it as a panda data frame. **This can take a few seconds** because for each player the full history for the current season is downloaded."
   ]
  },
  {
   "cell_type": "code",
   "execution_count": 5,
   "metadata": {
    "ExecuteTime": {
     "end_time": "2020-03-12T21:27:11.903487Z",
     "start_time": "2020-03-12T21:26:51.340075Z"
    },
    "scrolled": true
   },
   "outputs": [],
   "source": [
    "players_raw, players_history_past_raw, players_history_raw, _ = fpl.get_players()"
   ]
  },
  {
   "cell_type": "code",
   "execution_count": 6,
   "metadata": {
    "ExecuteTime": {
     "end_time": "2020-03-12T21:27:12.215158Z",
     "start_time": "2020-03-12T21:27:11.905482Z"
    }
   },
   "outputs": [],
   "source": [
    "players = players_raw.pipe(prepare_players, dd)\n",
    "players_history_past = players_history_past_raw.pipe(prepare_players_history_past, dd)\n",
    "players_history = players_history_raw.pipe(prepare_players_history, dd)"
   ]
  },
  {
   "cell_type": "code",
   "execution_count": 7,
   "metadata": {
    "ExecuteTime": {
     "end_time": "2020-03-12T21:27:12.231116Z",
     "start_time": "2020-03-12T21:27:12.218151Z"
    }
   },
   "outputs": [],
   "source": [
    "seasons = (players_history_past\n",
    "   .reset_index()['Season']\n",
    "   .drop_duplicates()\n",
    "   .sort_values()\n",
    "   .values)\n",
    "current_season = seasons[-1:][0]\n",
    "last_season = seasons[-2:-1][0]\n",
    "# Uncomment to view data: dd.display(players, head=5, excel_file='players.xlsx', stats=True)"
   ]
  },
  {
   "cell_type": "markdown",
   "metadata": {},
   "source": [
    "# Load team data"
   ]
  },
  {
   "cell_type": "markdown",
   "metadata": {
    "ExecuteTime": {
     "end_time": "2019-09-16T20:19:21.668650Z",
     "start_time": "2019-09-16T20:19:21.656681Z"
    }
   },
   "source": [
    "This section loads the team data and stats from the following endpoint: https://fantasy.premierleague.com/api/bootstrap-static/ and returns it as a panda data frame."
   ]
  },
  {
   "cell_type": "code",
   "execution_count": 8,
   "metadata": {
    "ExecuteTime": {
     "end_time": "2020-03-12T21:27:12.396672Z",
     "start_time": "2020-03-12T21:27:12.234108Z"
    },
    "scrolled": true
   },
   "outputs": [],
   "source": [
    "teams = fpl.get_teams().pipe(prepare_teams, dd)\n",
    "# Uncomment to view data: dd.display(teams, head=5, stats=True)"
   ]
  },
  {
   "cell_type": "markdown",
   "metadata": {},
   "source": [
    "# Load fixture data"
   ]
  },
  {
   "cell_type": "markdown",
   "metadata": {},
   "source": [
    "This section loads the fixture data and stats from the following endpoint: https://fantasy.premierleague.com/api/fixtures/ and returns it as a panda data frame."
   ]
  },
  {
   "cell_type": "code",
   "execution_count": 9,
   "metadata": {},
   "outputs": [],
   "source": [
    "def prepare_fixtures(fixtures_raw: pd.DataFrame, dd: DataDict) -> pd.DataFrame:\n",
    "    return (fixtures_raw\n",
    "        .drop(columns=['stats', 'finished_provisional', 'provisional_start_time'])\n",
    "        .pipe(dd.remap, 'fixture')\n",
    "        .rename_axis('Fixture ID')\n",
    "        .pipe(dd.reorder))\n"
   ]
  },
  {
   "cell_type": "code",
   "execution_count": 10,
   "metadata": {
    "ExecuteTime": {
     "end_time": "2020-03-12T21:27:13.004074Z",
     "start_time": "2020-03-12T21:27:12.398668Z"
    }
   },
   "outputs": [],
   "source": [
    "fixtures = (fpl.get_fixtures()\n",
    "            .pipe(prepare_fixtures, dd)\n",
    "            .sort_values('Game Week')\n",
    "            # Normalises the Game Week values since in COVID-19 season remaining game weeks were numbers starting from 39.\n",
    "            .assign(**{'Game Week': lambda df: \n",
    "                       (df['Game Week'].diff().map(lambda v: min(v, 1))\n",
    "                        .expanding(0)\n",
    "                        .sum()+1)\n",
    "                       .astype(int)}))"
   ]
  },
  {
   "cell_type": "markdown",
   "metadata": {},
   "source": [
    "# Create derived data\n",
    "This section creates new dataset by combining the previously loaded ones."
   ]
  },
  {
   "cell_type": "markdown",
   "metadata": {},
   "source": [
    "## Players with team info"
   ]
  },
  {
   "cell_type": "code",
   "execution_count": 11,
   "metadata": {
    "ExecuteTime": {
     "end_time": "2020-03-12T21:27:13.036987Z",
     "start_time": "2020-03-12T21:27:13.006070Z"
    }
   },
   "outputs": [],
   "source": [
    "player_teams = players.pipe(get_player_teams, teams, dd)\n",
    "# Uncomment to view data: dd.display(player_teams, head=5)"
   ]
  },
  {
   "cell_type": "markdown",
   "metadata": {},
   "source": [
    "## Fixtures with team info"
   ]
  },
  {
   "cell_type": "code",
   "execution_count": 12,
   "metadata": {
    "ExecuteTime": {
     "end_time": "2020-03-12T21:27:13.057930Z",
     "start_time": "2020-03-12T21:27:13.038981Z"
    }
   },
   "outputs": [],
   "source": [
    "fixture_teams = fixtures.pipe(get_fixture_teams, teams, dd)\n",
    "# Uncomment to view data: dd.display(fixture_teams, head=10)"
   ]
  },
  {
   "cell_type": "markdown",
   "metadata": {},
   "source": [
    "## Player derived fields and metrics\n",
    "The section below derives a few useful player attributes but most importantly, it calculates the total points earned by a player devided by his current cost. This is can be an indicator for whether the player is undervalued or overpriced."
   ]
  },
  {
   "cell_type": "code",
   "execution_count": 13,
   "metadata": {
    "ExecuteTime": {
     "end_time": "2020-03-12T21:27:13.974989Z",
     "start_time": "2020-03-12T21:27:13.059925Z"
    }
   },
   "outputs": [],
   "source": [
    "def calc_consistency(s: pd.Series):\n",
    "    if s.count() == 0:\n",
    "        return np.nan\n",
    "    \n",
    "    max_points = max(s)\n",
    "    if max_points == 0:\n",
    "        return np.nan\n",
    "    \n",
    "    return np.mean(s/max(s))*100\n",
    "\n",
    "def calc_stats(df: pd.DataFrame, game_week: int = None):\n",
    "    team_id = df['Player Team ID'].iloc[0]\n",
    "    \n",
    "    if not game_week is None:\n",
    "        df = df[df['Game Week'] <= game_week]\n",
    "    \n",
    "    s={'Total Points': df['Game Total Points'].sum(),\n",
    "       'Total Points Consistency': calc_consistency(df['Game Total Points']),\n",
    "       'Player Team ID': team_id}\n",
    "    \n",
    "    return pd.Series(s)\n",
    "    \n",
    "players_history_fixtures = (players_history[['Game Total Points', 'Game Minutes Played', 'Game Cost']]\n",
    "    .reset_index()\n",
    "    .merge(fixtures, left_on='Fixture ID', right_index=True)\n",
    "    .merge(player_teams[['Player Team ID', 'Field Position', 'Minutes Percent', 'News And Date', 'Team Short Name', 'Name and Short Team']], left_on='Player ID', right_index=True)\n",
    "    .set_index(['Player ID', 'Fixture ID']))\n",
    "\n",
    "players_history_stats = (players_history_fixtures\n",
    "    .groupby(['Player ID'])\n",
    "    .apply(lambda df: calc_stats(df)))\n",
    "\n",
    "player_team_stats = (player_teams\n",
    "    .reset_index()\n",
    "    .merge(players_history_stats[['Total Points Consistency']], left_on='Player ID', right_on='Player ID')\\\n",
    "    .set_index('Player ID')\n",
    "    .assign(**{'Points Per Cost': lambda df: df['Total Points']/df['Current Cost']}))\n",
    "\n",
    "# Add the total points from the last season to the player stats so it can be used for the expected point calculation at the beginning of the season.\n",
    "players_history_last_season = (players_history_past\n",
    "    .reset_index()\n",
    "    [['Player ID', 'Season', 'Season Total Points']]\n",
    "    [lambda df: df['Season'] == last_season]\n",
    "    .rename(columns={'Season Total Points': 'Last Season Total Points'}))\n",
    "\n",
    "player_team_stats = (player_team_stats\n",
    "    .merge(players_history_last_season.set_index('Player ID'), left_index=True, right_index=True, how='left')\n",
    "    .pipe(dd.reorder))\n",
    "# Uncomment to view data: dd.display(player_team_stats, head=15)"
   ]
  },
  {
   "cell_type": "markdown",
   "metadata": {},
   "source": [
    "## Team metrics"
   ]
  },
  {
   "cell_type": "code",
   "execution_count": 14,
   "metadata": {
    "ExecuteTime": {
     "end_time": "2020-03-12T21:27:14.059760Z",
     "start_time": "2020-03-12T21:27:13.976983Z"
    }
   },
   "outputs": [],
   "source": [
    "team_score_stats = (fixture_teams\n",
    "    .pipe(get_team_fixture_scores, teams)\n",
    "    .pipe(get_team_score_stats))"
   ]
  },
  {
   "cell_type": "code",
   "execution_count": 15,
   "metadata": {
    "ExecuteTime": {
     "end_time": "2020-03-12T21:27:14.075718Z",
     "start_time": "2020-03-12T21:27:14.060758Z"
    }
   },
   "outputs": [],
   "source": [
    "team_points = (player_team_stats\n",
    "    .reset_index()\n",
    "    .groupby(['Player Team ID', 'Team Name', 'Team Short Name'])[['Total Points']]\n",
    "    .sum()\n",
    "    .reset_index()\n",
    "    .set_index('Player Team ID'))\n",
    "# Uncomment to view data:  dd.display(team_points, excel_file='team_points.xlsx', head=50)"
   ]
  },
  {
   "cell_type": "markdown",
   "metadata": {},
   "source": [
    "## Fixture metrics\n",
    "In order to calculate relative strengths of the teams, we aggregate the points that the team has earned so far. We later can use this information to adjust the expected points for each player."
   ]
  },
  {
   "cell_type": "code",
   "execution_count": 16,
   "metadata": {
    "ExecuteTime": {
     "end_time": "2020-03-12T21:27:14.102646Z",
     "start_time": "2020-03-12T21:27:14.077714Z"
    }
   },
   "outputs": [],
   "source": [
    "fixture_teams_stats = (fixture_teams\n",
    "    .merge(team_points[['Total Points']].rename(columns={'Total Points': 'Fixture Strength Home'}), left_on='Home Team ID', right_on='Player Team ID')\n",
    "    .merge(team_points[['Total Points']].rename(columns={'Total Points': 'Fixture Strength Away'}), left_on='Away Team ID', right_on='Player Team ID')\n",
    "    .assign(**{'Rel. Fixture Strength Home': lambda df: df['Fixture Strength Home']/df['Fixture Strength Away']})\n",
    "    .assign(**{'Rel. Fixture Strength Away': lambda df: df['Fixture Strength Away']/df['Fixture Strength Home']})\n",
    "    .assign(**{'Fixture Short Name': lambda df: df['Team Short Name Home']+'-'+df['Team Short Name Away']})\n",
    "    .set_index('Fixture ID')\n",
    "    .pipe(dd.reorder))\n",
    "# Uncomment to view data:  dd.display(fixture_teams_stats.sort_values(['Game Week']), excel_file='fixture_teams_stats.xlsx', head=50)"
   ]
  },
  {
   "cell_type": "markdown",
   "metadata": {},
   "source": [
    "## Calculate relative fixture strengths\n",
    "Calculates a relative fixtures strengths for each team. The relative strength is a factor around 1 and is used in the expected point prediction below to adjust the predicted points based on the relative strengths of the upcoming game weeks. The simple idea here is that team with more total points so far are stronger. A value above 1 indicates that the player's team is relatively stronger and a value below 1 indicates that the team is relatively weaker. "
   ]
  },
  {
   "cell_type": "code",
   "execution_count": 17,
   "metadata": {
    "ExecuteTime": {
     "end_time": "2020-03-12T21:27:14.236797Z",
     "start_time": "2020-03-12T21:27:14.104641Z"
    }
   },
   "outputs": [],
   "source": [
    "# Unfold data frame so that there a two rows for each fixture.\n",
    "team_fixture_strength = (pd\n",
    "    .melt(fixture_teams_stats\n",
    "        .reset_index()\n",
    "        [['Fixture ID', 'Home Team ID', 'Team Name Home', 'Away Team ID', 'Fixture Strength Home', 'Fixture Strength Away', 'Rel. Fixture Strength Home', 'Rel. Fixture Strength Away', 'Home Team Difficulty', 'Away Team Difficulty']],\\\n",
    "        id_vars=['Fixture ID', 'Fixture Strength Home', 'Fixture Strength Away', 'Rel. Fixture Strength Home', 'Rel. Fixture Strength Away', 'Home Team Difficulty', 'Away Team Difficulty'], \n",
    "        value_vars=['Home Team ID', 'Away Team ID'])\n",
    "    .drop('variable', axis=1)\n",
    "    .rename(columns={'value': 'Team ID'})\n",
    "    .merge(fixture_teams_stats[['Home Team ID', 'Away Team ID','Game Week', 'Started', 'Fixture Short Name', 'Kick Off Time']], left_on='Fixture ID', right_index=True, suffixes=(False, False))\n",
    "    .assign(**{'Is Home?': (lambda df: df['Home Team ID'] == df['Team ID'])})\n",
    "    .assign(**{'Opp Team ID': (lambda df: df.apply(lambda row: row['Away Team ID'] if row['Is Home?'] else row['Home Team ID'], axis=1))})    \n",
    "    .sort_values(['Game Week'])\n",
    "    # Get the correct strength based on whether the team is the home or away team.\n",
    "    .assign(**{'Rel. Fixture Strength': lambda df: df.apply(lambda row: row['Rel. Fixture Strength Home'] if row['Is Home?'] else row['Rel. Fixture Strength Away'], axis=1)})\n",
    "    .assign(**{'Team Difficulty': lambda df: df.apply(lambda row: row['Home Team Difficulty'] if row['Is Home?'] else row['Away Team Difficulty'], axis=1)})\n",
    "    .assign(**{'Fixture Short Name Difficulty': lambda df: df['Fixture Short Name']+' ('+df['Team Difficulty'].astype('str')+')'})\n",
    "    .merge(teams, left_on='Team ID', right_on='Team ID')\n",
    "    [['Team ID', 'Fixture ID', 'Rel. Fixture Strength', 'Fixture Short Name', 'Team Difficulty', 'Opp Team ID', 'Is Home?', 'Game Week', 'Started', 'Fixture Short Name Difficulty', 'Kick Off Time']]\n",
    "    .set_index(['Team ID', 'Fixture ID'])    \n",
    "    .assign(**{'Rel. Fixture Strength To GW': lambda df: df.groupby('Team ID')['Rel. Fixture Strength']\n",
    "               .apply(lambda x: x.shift().expanding().mean())})\n",
    "    .reset_index()\n",
    "    .set_index(['Team ID'])\n",
    "    .pipe(dd.reorder)) \n",
    "\n",
    "# Uncomment to view data for a specific game week: dd.display(team_fixture_strength[team_fixture_strength['Game Week'] == 5])\n",
    "# Uncomment to view data: dd.display(team_fixture_strength, excel_file='team_fixture_strength.xlsx')"
   ]
  },
  {
   "cell_type": "markdown",
   "metadata": {},
   "source": [
    "## Transfer relative fixture strengths from fixtures to players\n",
    "This section joins the fixture strengths data set with the player data set so that expected points can be calculated on a player basis."
   ]
  },
  {
   "cell_type": "code",
   "execution_count": 18,
   "metadata": {
    "ExecuteTime": {
     "end_time": "2020-03-12T21:27:14.467725Z",
     "start_time": "2020-03-12T21:27:14.237795Z"
    }
   },
   "outputs": [],
   "source": [
    "player_team_fixture_strength = (player_team_stats\n",
    "        .merge(team_fixture_strength, left_on='Player Team ID', right_index=True, suffixes=(False, False))\n",
    "        .reset_index()\n",
    "        .set_index(['Player ID', 'Fixture ID']))"
   ]
  },
  {
   "cell_type": "markdown",
   "metadata": {},
   "source": [
    "# Explore players based on expected points for different time horizons\n",
    "The forecast of the points earned by each player for a specific time horizon is the minimum of two numbers: expected points based average points earned so far and the expected points calculated by the Neural Network. \n",
    "\n",
    "$$ep_{th} = min(ep_{av,th}, ep_{nn,th} )$$\n",
    "\n",
    "where\n",
    "\n",
    "* $ep_{av,th}$: Expected points for time horizon $th$ based average points earned so far\n",
    "* $ep_{nn,th}$: Expected points  for time horizon $th$ based on neural network prediction. For training the model with different data, see the [train_nn_model.ipynb](train_nn_model.ipynb) notebook.\n",
    "\n",
    "The first name is the average points earned over the past fixtures this season and then adjusting it for the difficulty of the upcoming fixtures over specific time horizon and likelihood of playing. It is calculated for every player as:\n",
    "\n",
    "$$ep_{av,th} = \\frac{tp}{gw}\\sum_{i=1}^{t} p_i\\frac{\\sum_{i=1}^{th} s_i}{s_{gw}} $$\n",
    "\n",
    "where\n",
    "\n",
    "* $ep_{av,th}$: Expected points for a players over a specific time horizon, e.g. next game week, next five game weeks, remaining game weeks of the current season half and remaining game weeks of the current season\n",
    "* $tp$: Total points earned by the player this season so far\n",
    "* $gw$: Number of game weeks completed so far\n",
    "* $s_i$: Relative strenth of a specific upcoming fixture for the team of the player. This value is usally just over 1 if the player's team is relatively to stronger and less than 1 if it is weaker.\n",
    "* $s_{gw}$: Relative strenth of fixtures this season so far for the team of the player\n",
    "* $p_i$: Chance of player playing in an upcoming fixture\n",
    "\n",
    "This approach the following limitations:\n",
    "* Expected points are solely predicted based on the past performance and no other information such as recent news is taken into account.\n",
    "* All past performance this season is considered equal, regardless of how long ago it was. I.e. there is no recency bias.\n",
    "* Past perforamnce does not take into account why a player has not earned any points during a game. It matters whether this due to manager selection or due to inhjury.\n",
    "* The relative strengths are calculated based on many assumptions and the full meaning of the raw strength numbers published by FPL is not clear.\n",
    "* The adjustment for the chance of the player playing really should be made on a per game basis as opposed to the overall expected points (but given the accuracy of the chance of playing this is probably a minor issue)."
   ]
  },
  {
   "cell_type": "markdown",
   "metadata": {},
   "source": [
    "## Create combined data for past and future fixtures for each player\n",
    "This section concatenates two sets: one historical and one future fixture set. The reason for this is that for completed matches, we need it to consider the team that player actually played for, while for future games we can assume that the player will play for the same team than he is currently in."
   ]
  },
  {
   "cell_type": "code",
   "execution_count": 19,
   "metadata": {
    "ExecuteTime": {
     "end_time": "2020-03-12T21:27:14.475688Z",
     "start_time": "2020-03-12T21:27:14.469704Z"
    }
   },
   "outputs": [],
   "source": [
    "# Get current game week. When the first game of the game week starts is this number incremented.\n",
    "current_gw = max(1, team_fixture_strength[team_fixture_strength['Started'] == True]['Game Week'].max()+1)\n",
    "total_gws = (teams.shape[0]-1)*2"
   ]
  },
  {
   "cell_type": "code",
   "execution_count": 20,
   "metadata": {
    "ExecuteTime": {
     "end_time": "2020-03-12T21:27:14.864647Z",
     "start_time": "2020-03-12T21:27:14.476685Z"
    }
   },
   "outputs": [],
   "source": [
    "# Estimates the chance that a player is available for the future game weeks.\n",
    "def est_chance_avail(df: pd.DataFrame)-> pd.Series:\n",
    "    chance_avail = df['Chance Avail Next GW']\n",
    "    \n",
    "    if chance_avail.shape[0] == 0:\n",
    "        return chance_avail\n",
    "    \n",
    "    if chance_avail.iloc[0] > 0 and chance_avail.iloc[0] <= 1: # If the chance available is not 0 or 1 then assume that the following game week the chance is 1.\n",
    "        chance_avail.iloc[1:] = 1\n",
    "        \n",
    "    return chance_avail\n",
    "\n",
    "team_future_fixtures = (team_fixture_strength[team_fixture_strength['Fixture ID']\n",
    "        .isin(players_history_fixtures.index.get_level_values(level='Fixture ID')) == False])[['Fixture ID', 'Game Week']]\n",
    "\n",
    "players_future_fixture_team_strengths = (player_teams\n",
    "    [['Player Team ID', 'Chance Avail Next GW']]\n",
    "    .reset_index()\n",
    "    .merge(team_future_fixtures, left_on=['Player Team ID'], right_index=True, suffixes=(False, False))\n",
    "    .sort_values('Game Week')\n",
    "    .set_index(['Player ID', 'Fixture ID'])\n",
    "    # Projects the chance available forward based on the chance avaible for the next game week.\n",
    "    .assign(**{'Chance Avail': lambda df: df[['Chance Avail Next GW', 'Game Week']]  \n",
    "        .groupby('Player ID').apply(lambda df: est_chance_avail(df).droplevel('Player ID'))}) \n",
    "    .drop(columns=['Chance Avail Next GW', 'Game Week']))"
   ]
  },
  {
   "cell_type": "code",
   "execution_count": 21,
   "metadata": {
    "ExecuteTime": {
     "end_time": "2020-03-12T21:27:21.219284Z",
     "start_time": "2020-03-12T21:27:14.868636Z"
    }
   },
   "outputs": [],
   "source": [
    "player_fixture_stats = (pd.concat([players_history_fixtures[['Player Team ID', 'Game Total Points', 'Game Minutes Played', 'Game Cost']], \n",
    "                                   players_future_fixture_team_strengths], sort=False)\n",
    "    .merge(player_team_fixture_strength[['Minutes Percent', 'Chance Avail Next GW', 'Team Difficulty', 'Field Position ID', 'Field Position',\n",
    "       'ICT Index', 'Minutes Played', 'Current Cost', 'Total Points', 'Game Week', 'Is Home?', 'Name', 'Team Short Name', 'Total Points Consistency',\n",
    "       'Chance Avail This GW', 'Opp Team ID', 'Fixture Short Name Difficulty', 'Fixture Short Name', 'Rel. Fixture Strength', 'Rel. Fixture Strength To GW', 'Name and Short Team', 'News And Date', 'Kick Off Time']], left_index=True, right_index=True, suffixes=(False, False))\n",
    "    .merge(team_score_stats[['Total Team Goals Scored', 'Total Team Goals Conceded']], left_on='Player Team ID', right_index=True, suffixes=(False, False))\n",
    "    .merge(team_score_stats[['Team Short Name', 'Total Team Goals Scored', 'Total Team Goals Conceded']]\n",
    "           .rename(columns={'Team Short Name': 'Opp Team Short Name', 'Total Team Goals Scored': 'Total Opp Team Goals Scored', 'Total Team Goals Conceded': 'Total Opp Team Goals Conceded'})\n",
    "           , left_on='Opp Team ID', right_index=True, suffixes=(False, False))\n",
    "    .merge(team_points[['Total Points']].rename(columns={'Total Points': 'Team Total Points'}), left_on='Player Team ID', right_index=True, suffixes=(False, False))\n",
    "    .merge(team_points[['Total Points']].rename(columns={'Total Points': 'Opp Team Total Points'}), left_on='Opp Team ID', right_index=True, suffixes=(False, False))\n",
    "    .assign(**{'Chance Avail': lambda df: df['Chance Avail'].fillna(0)})    \n",
    "    .pipe(calc_player_fixture_stats)\n",
    "    .assign(**{'Avg Rel. Fixture Strength To GW': lambda df: df.groupby('Player ID')['Rel. Fixture Strength'].apply(lambda x: x.shift().expanding().mean())}))"
   ]
  },
  {
   "cell_type": "markdown",
   "metadata": {},
   "source": [
    "## Calculates the expected points for the following time horizons\n",
    "Calculates the expected points for the following time horizons:\n",
    "* the next game week (mainly for Free Hit and team selection optimisation)\n",
    "* the next x game weeks (mainly for individuals transfers)\n",
    "* the remaining game weeks of the current season\n",
    "\n",
    "The expected points for each time horizon are simply the sum of expected points for each game week within the time horizon."
   ]
  },
  {
   "cell_type": "code",
   "execution_count": 22,
   "metadata": {
    "ExecuteTime": {
     "end_time": "2020-03-12T21:27:21.989237Z",
     "start_time": "2020-03-12T21:27:21.222277Z"
    }
   },
   "outputs": [
    {
     "name": "stdout",
     "output_type": "stream",
     "text": [
      "WARNING:tensorflow:Layer sequential_3 is casting an input tensor from dtype float64 to the layer's dtype of float32, which is new behavior in TensorFlow 2.  The layer has dtype float32 because it's dtype defaults to floatx.\n",
      "\n",
      "If you intended to run this layer in float32, you can safely ignore this warning. If in doubt, this warning is likely only an issue if you are porting a TensorFlow 1.X model to TensorFlow 2.\n",
      "\n",
      "To change all layers to have dtype float64 by default, call `tf.keras.backend.set_floatx('float64')`. To change just this layer, pass dtype='float64' to the layer constructor. If you are the author of this layer, you can disable autocasting by passing autocast=False to the base Layer constructor.\n",
      "\n"
     ]
    }
   ],
   "source": [
    "eps_model = tf.keras.models.load_model('models/expected_points')"
   ]
  },
  {
   "cell_type": "code",
   "execution_count": 23,
   "metadata": {
    "ExecuteTime": {
     "end_time": "2020-03-12T21:27:21.996219Z",
     "start_time": "2020-03-12T21:27:21.991233Z"
    }
   },
   "outputs": [],
   "source": [
    "def nn_eps_gw(player_fixture_stats: pd.DataFrame, model: tf.keras.Model) -> pd.DataFrame:\n",
    "    return (player_fixture_stats\n",
    "            [['Field Position', 'Avg Points Opp Points Adj To GW', 'Game Total Points', 'Is Home?', 'Avg Minutes Played Recently To GW', 'Total Opp Team Goals Scored Diff']]\n",
    "            .dropna(how='any',axis=0)\n",
    "            .assign(**{'Expected Points NN': lambda df: model.predict(df.pipe(nn_prep_ds, 'Game Total Points')).flatten()})\n",
    "            ['Expected Points NN'])"
   ]
  },
  {
   "cell_type": "markdown",
   "metadata": {},
   "source": [
    "Calculate expected points for each player and fixture combination."
   ]
  },
  {
   "cell_type": "code",
   "execution_count": 24,
   "metadata": {
    "ExecuteTime": {
     "end_time": "2020-03-12T21:27:22.698340Z",
     "start_time": "2020-03-12T21:27:21.997217Z"
    }
   },
   "outputs": [],
   "source": [
    "players_fixture_team_eps = (player_fixture_stats\n",
    "     .assign(**{'Expected Points NN': lambda df: df.pipe(nn_eps_gw, eps_model)})\n",
    "     .assign(**{'Expected Points Calc': lambda df: df.pipe(calc_eps)})\n",
    "     .assign(**{'Expected Points': lambda df: df[['Expected Points Calc', 'Expected Points NN']].min(axis=1)})\n",
    "    )"
   ]
  },
  {
   "cell_type": "markdown",
   "metadata": {},
   "source": [
    "Project the fixtures to game week level to deal with game week when there is no fixture for a team or double fixtures."
   ]
  },
  {
   "cell_type": "code",
   "execution_count": 25,
   "metadata": {
    "ExecuteTime": {
     "end_time": "2020-03-12T21:27:22.717291Z",
     "start_time": "2020-03-12T21:27:22.700335Z"
    }
   },
   "outputs": [],
   "source": [
    "def proj_to_gw(players_fixture_team_eps: pd.DataFrame) -> pd.DataFrame:\n",
    "    def proj_to_gw_func(col: pd.Series) -> dict:\n",
    "        if col.name in ('Game Total Points', 'Game Minutes Played') or col.name.startswith('Expected Points'):\n",
    "            return 'sum'\n",
    "\n",
    "        if col.name == 'Fixture Short Name Difficulty':\n",
    "            return ', '.join\n",
    "\n",
    "        if np.issubdtype(col.dtype, np.number):\n",
    "            return 'mean'\n",
    "\n",
    "        return 'last'\n",
    "\n",
    "    def fill_missing_gws(players_gw_team_eps: pd.DataFrame) -> pd.DataFrame:\n",
    "        return (players_gw_team_eps\n",
    "                # Fills some columns with the value of the last game week if there is no fixture for a player in a particular game week.\n",
    "                .assign(**players_gw_team_eps\n",
    "                        .groupby('Player ID')[\n",
    "            'Player Team ID', 'Name', 'Name and Short Team', 'News And Date', 'Field Position ID', 'Field Position', 'Team Short Name', 'Minutes Played', 'Minutes Percent', 'Current Cost', 'Total Points', 'Total Points Consistency']\n",
    "                        .apply(lambda x: x.fillna(method='ffill')).to_dict('series'))\n",
    "                # Fills some columns with 0 if there is no fixture for a player in a particular game week.\n",
    "                .assign(**players_gw_team_eps\n",
    "                        .groupby('Player ID')['Expected Points NN', 'Expected Points Calc', 'Expected Points', 'Chance Avail This GW', 'Chance Avail Next GW']\n",
    "                        .apply(lambda x: x.fillna(0.0)).to_dict('series')))\n",
    "\n",
    "    def nan_future_gws(players_gw_team_eps: pd.DataFrame) -> pd.DataFrame:\n",
    "        # This is necessary because the resulte of the sum function is 0 and not np.nan for series with only pd.nan elements and calling sum with min_count=1 is too slow.\n",
    "        return (players_gw_team_eps\n",
    "                    .assign(**{'Game Total Points': lambda df: np.where(df['Game Cost'].isnull(), np.nan, df['Game Total Points'])})\n",
    "                    .assign(**{'Game Minutes Played': lambda df: np.where(df['Game Cost'].isnull(), np.nan, df['Game Total Points'])}))\n",
    "        \n",
    "    # Creates a data frame with a row of every game week/player ID combination. This is required to deal with game weeks that have double or missing fixtures.\n",
    "    gws = pd.Series(range(1, players_fixture_team_eps['Game Week'].max() + 1))\n",
    "    player_gws_index = pd.MultiIndex.from_product([players_fixture_team_eps.index.unique(level=0), gws], names=['Player ID', 'Game Week'])\n",
    "    player_gws = pd.DataFrame(index=player_gws_index)\n",
    "\n",
    "    # Projects from fixtures to game weeks.\n",
    "    return (players_fixture_team_eps\n",
    "            .groupby(['Player ID', 'Game Week'])\n",
    "            .agg({col: proj_to_gw_func(players_fixture_team_eps[col]) for col in players_fixture_team_eps.columns})\n",
    "            .drop(columns=['Game Week'])\n",
    "            .merge(player_gws, left_index=True, right_index=True, how='right', suffixes=(False, False))\n",
    "            .pipe(fill_missing_gws)\n",
    "            .pipe(nan_future_gws))"
   ]
  },
  {
   "cell_type": "code",
   "execution_count": 26,
   "metadata": {
    "ExecuteTime": {
     "end_time": "2020-03-12T21:27:27.597302Z",
     "start_time": "2020-03-12T21:27:22.719285Z"
    }
   },
   "outputs": [],
   "source": [
    "players_gw_team_eps = (players_fixture_team_eps\n",
    "    .pipe(proj_to_gw))"
   ]
  },
  {
   "cell_type": "markdown",
   "metadata": {},
   "source": [
    "Calculates the expected points for the different time horizons."
   ]
  },
  {
   "cell_type": "code",
   "execution_count": 27,
   "metadata": {
    "ExecuteTime": {
     "end_time": "2020-03-12T21:27:35.212571Z",
     "start_time": "2020-03-12T21:27:27.598300Z"
    }
   },
   "outputs": [],
   "source": [
    "player_gw_next_eps = (players_gw_team_eps\n",
    "                    .reset_index(level=1)\n",
    "                    .groupby('Player ID')\n",
    "                    .apply(lambda df: df.pipe(calc_eps_for_next_gws, next_gws, current_gw, total_gws)))\n",
    "\n",
    "player_gw_next_eps_active = player_gw_next_eps[lambda df: (df['Minutes Percent'] > 50) & (df['Minutes Played'] >=  300)] # Remove entries with less than 50% minutes or less than 300 minutes played"
   ]
  },
  {
   "cell_type": "markdown",
   "metadata": {},
   "source": [
    "## Visualise players' cost vs their expected points"
   ]
  },
  {
   "cell_type": "raw",
   "metadata": {
    "ExecuteTime": {
     "end_time": "2020-03-12T21:27:35.808482Z",
     "start_time": "2020-03-12T21:27:35.214565Z"
    }
   },
   "source": [
    "_ = interact(player_strength_by_horizon, player_eps=fixed(player_gw_next_eps_active), dd=fixed(dd), current_gw=fixed(current_gw), horizon=widgets.ToggleButtons(description='Horizon: ', options=next_gws))"
   ]
  },
  {
   "cell_type": "markdown",
   "metadata": {},
   "source": [
    "# Load user team data\n",
    "This section loads the data of the user's team. \n",
    "\n",
    "**Note this requires your user credentials to be saved in fpl_credentials.csv in the same directory as this notebook. Use fpl_credentials_template.csv as template.** Alternatively, you can set the fpl_email and fpl_password variables below."
   ]
  },
  {
   "cell_type": "code",
   "execution_count": 37,
   "metadata": {},
   "outputs": [],
   "source": [
    "# Enter your FPL credentials here.\n",
    "fpl_email = ''\n",
    "fpl_password = ''\n",
    "\n",
    "if not os.path.exists(creds_file):\n",
    "    fpl_cred = {'email': fpl_email, 'password': fpl_password}\n",
    "else:\n",
    "    fpl_cred = pd.read_csv('fpl_credentials.csv').iloc[0].to_dict()\n",
    "    \n",
    "assert len(fpl_cred['email']) > 0 and len(fpl_cred['password']) > 0, 'FPL credentials not set. Please provide your email and password.'\n",
    "\n",
    "fpl = FPLPandas(**fpl_cred)"
   ]
  },
  {
   "cell_type": "code",
   "execution_count": 38,
   "metadata": {},
   "outputs": [],
   "source": [
    "try:\n",
    "    user_team_raw, _, user_trans_info_raw = fpl.get_user_team()\n",
    "except Exception as e:\n",
    "    print(e)"
   ]
  },
  {
   "cell_type": "code",
   "execution_count": 39,
   "metadata": {
    "ExecuteTime": {
     "end_time": "2020-03-12T21:27:36.695138Z",
     "start_time": "2020-03-12T21:27:36.673198Z"
    }
   },
   "outputs": [],
   "source": [
    "user_team = (user_team_raw\n",
    "    .pipe(dd.remap, data_set='player')\n",
    "    .assign(**{'In Team?': True})\n",
    "    .assign(**{'Selling Price': lambda df: df['Selling Price']/10})\n",
    "    .assign(**{'Purchase Price': lambda df: df['Purchase Price']/10})\n",
    "    .assign(**{'Selected?': lambda df: df['Team Position'].map(lambda x: x <= 11)}) \n",
    "    .rename_axis('Player ID'))\n",
    "\n",
    "user_trans_info = user_trans_info_raw.loc[0]"
   ]
  },
  {
   "cell_type": "markdown",
   "metadata": {},
   "source": [
    "## Current team"
   ]
  },
  {
   "cell_type": "code",
   "execution_count": 40,
   "metadata": {
    "ExecuteTime": {
     "end_time": "2020-03-12T21:27:37.011292Z",
     "start_time": "2020-03-12T21:27:36.697133Z"
    }
   },
   "outputs": [
    {
     "data": {
      "application/vnd.jupyter.widget-view+json": {
       "model_id": "d490033e854d4336b8d6291b48ac9422",
       "version_major": 2,
       "version_minor": 0
      },
      "text/plain": [
       "VBox(children=(HTML(value='<h3>Stats</h3>'), VBox(children=(Output(),)), HTML(value='<h3>Team</h3>'), VBox(chi…"
      ]
     },
     "metadata": {},
     "output_type": "display_data"
    }
   ],
   "source": [
    "player_user_team = user_team.merge(player_gw_next_eps, left_on='Player ID', right_on='Player ID', how='left')\n",
    "display_team(player_user_team, dd)"
   ]
  },
  {
   "cell_type": "code",
   "execution_count": null,
   "metadata": {
    "ExecuteTime": {
     "end_time": "2020-03-12T21:27:37.019271Z",
     "start_time": "2020-03-12T21:27:37.013288Z"
    }
   },
   "outputs": [],
   "source": [
    "total_budget = (user_trans_info['bank']/10+player_user_team['Selling Price'].sum())\n",
    "total_budget"
   ]
  },
  {
   "cell_type": "code",
   "execution_count": null,
   "metadata": {
    "ExecuteTime": {
     "end_time": "2020-03-12T21:27:37.635637Z",
     "start_time": "2020-03-12T21:27:37.021267Z"
    }
   },
   "outputs": [],
   "source": [
    "_ = interact(player_strength_by_horizon, player_eps=fixed(user_team.merge(player_gw_next_eps_active, left_on='Player ID', right_on='Player ID', how='outer')),\n",
    "             dd=fixed(dd), current_gw=fixed(current_gw), horizon=widgets.ToggleButtons(description='Horizon: ', options=next_gws))"
   ]
  },
  {
   "cell_type": "markdown",
   "metadata": {},
   "source": [
    "# Recommend selection or next GW and transfers for next 5 GWs\n",
    "Use this section to get a recommendation on what players to select to optimise the expected points of your team and to improve it by making transfers. You need to have provided your FPL credentials for this to work.\n",
    "\n",
    "It uses the PuLP linear optimiser to find the team combination within the current budget available with the highest total expected points of the over the next five game weeks while taking your current team into account for a user defined number of transfers. Note that when executing more than one transfer on the FPL website, 4 points will be deducted from your balance for every transfer.\n",
    "\n",
    "It uses the same PuLP linear optimiser to find the selection with the highest expected points for the next game week.\n",
    "\n",
    "## Recommended team"
   ]
  },
  {
   "cell_type": "code",
   "execution_count": null,
   "metadata": {
    "ExecuteTime": {
     "end_time": "2020-03-12T21:28:42.010630Z",
     "start_time": "2020-03-12T21:28:32.334322Z"
    }
   },
   "outputs": [],
   "source": [
    "# Gets the cost and player ID of the second goal keeper so that the optimiser does not recommend his replacement.\n",
    "second_gk = player_user_team[player_user_team['Field Position'] == 'GK'].sort_values('Expected Points Next GW')[['Current Cost']].iloc[0]\n",
    "second_gk_cost = second_gk.values[0]\n",
    "second_gk_id = second_gk.name\n",
    "\n",
    "player_team_eps_user = (user_team\n",
    "    .merge(player_gw_next_eps_active, left_on='Player ID', right_on='Player ID', how='right')\n",
    "    .assign(**{'Current Cost': lambda df: df['Selling Price'].fillna(df['Current Cost'])}))\n",
    "\n",
    "player_team_optimal = (get_optimal_squad(player_team_eps_user, \n",
    "                        optimise_team_on='Expected Points GWs To End',\n",
    "                        optimise_sel_on='Expected Points Next GW', \n",
    "                        formation='1-5-5-3', # Not 2-5-5-3 if we want to avoid the transfer of the second goal keeper recommended.\n",
    "                        budget=total_budget-second_gk_cost, #-second_gk_cost, # Not just total_budget if we want to avoid the transfer of the second goal keeper recommended.\n",
    "                        recommend=0) # If set to 0, the optimiser will still recommend a team selection that maximises the expected points.\\\n",
    "    .sort_values(['Field Position ID']))\n",
    "player_team_optimal = dd.reorder(player_team_optimal)\n",
    "display_team(player_team_optimal, dd, in_team=True)"
   ]
  },
  {
   "cell_type": "code",
   "execution_count": null,
   "metadata": {
    "ExecuteTime": {
     "end_time": "2020-03-12T21:28:42.081441Z",
     "start_time": "2020-03-12T21:28:42.013621Z"
    },
    "scrolled": true
   },
   "outputs": [],
   "source": [
    "player_team_removed = player_user_team[(player_user_team['In Team?'] == True) \n",
    "                                       & (player_user_team.index.isin(player_team_optimal.index.values) == False)\n",
    "                                      & (player_user_team.index.isin([second_gk_id]) == False)]\n",
    "dd.display(player_team_removed[['Name', 'Current Cost', 'Field Position', 'Captain?', 'Vice Captain?', 'Minutes Percent', 'News And Date', 'Expected Points Next GW', 'Expected Points Next 5 GWs', 'Total Points Consistency']],\n",
    "           index=False, footer=False, descriptions=False)"
   ]
  },
  {
   "cell_type": "markdown",
   "metadata": {},
   "source": [
    "# Get best team for wildcard or season start\n",
    "You can use the code below to get the best team for a wildcared or at the start of the season. It uses the [PuLP linear optimiser](https://pythonhosted.org/PuLP/) to find the team combination within the current money available with the highest total expected points of the over the next five gameweeks."
   ]
  },
  {
   "cell_type": "code",
   "execution_count": null,
   "metadata": {
    "ExecuteTime": {
     "end_time": "2020-03-01T21:09:48.926408Z",
     "start_time": "2020-03-01T21:09:47.382015Z"
    }
   },
   "outputs": [],
   "source": [
    "team_budget = total_budget if 'total_budget' in globals() else 100.0\n",
    "\n",
    "player_team_optimal = get_optimal_squad(player_gw_next_eps_active, \n",
    "                                        optimise_team_on='Expected Points GWs To End',\n",
    "                                        optimise_sel_on='Expected Points Next GW', \n",
    "                                        formation='2-5-5-3', \n",
    "                                        budget=team_budget)\\\n",
    "    .sort_values(['Field Position ID'])\n",
    "player_team_optimal = dd.reorder(player_team_optimal)\n",
    "display_team(player_team_optimal, dd)"
   ]
  },
  {
   "cell_type": "markdown",
   "metadata": {},
   "source": [
    "# Select a good week to play the free hit chip\n",
    "The idea here is to use the expected points for each player to determine the expected points of the optimal team (selected players only) for each game week. The game week with the highest expected points is the best for a free hit. **Be aware that towards the end of the season, double game weeks get scheduled and therefore it is advisable to wait till early March.**"
   ]
  },
  {
   "cell_type": "code",
   "execution_count": null,
   "metadata": {
    "ExecuteTime": {
     "end_time": "2020-03-01T21:09:48.953336Z",
     "start_time": "2020-03-01T21:09:48.928403Z"
    }
   },
   "outputs": [],
   "source": [
    "def filter_gw(player_fixture_stats: pd.DataFrame, gw: int) -> pd.DataFrame:\n",
    "    return (player_fixture_stats\n",
    "        [lambda df: df['Game Week'] == gw]\n",
    "        .assign(**{'Current Cost': lambda df: np.where(~df['Game Cost'].isnull(), df['Game Cost'], df['Current Cost'])})\n",
    "        .reset_index()\n",
    "        .set_index('Player ID'))\n",
    "\n",
    "def get_optimal_team_exp(player_team_exp_gw: pd.DataFrame, ep_column: str = 'Expected Points', \n",
    "                         formation: str = '2-5-5-3', budget: float = 100.0) -> pd.DataFrame:\n",
    "    player_team_optimal = get_optimal_squad(player_team_exp_gw, \n",
    "                                    optimise_team_on=ep_column,\n",
    "                                    optimise_sel_on=ep_column, \n",
    "                                    formation=formation, \n",
    "                                    budget=budget)\n",
    "    return player_team_optimal[['Game Total Points', ep_column, 'Point Factor', 'Selected?']]\n",
    " \n",
    "    \n",
    "def get_optimal_team_act(players_history_fixtures_gw: pd.DataFrame,\n",
    "                         formation: str = '2-5-5-3', budget: float = 100.0) -> pd.DataFrame:\n",
    "    player_team_optimal_act = get_optimal_squad(players_history_fixtures_gw, \n",
    "                                    optimise_team_on='Game Total Points',\n",
    "                                    optimise_sel_on='Game Total Points', \n",
    "                                    formation=formation, \n",
    "                                    budget=budget)\n",
    "    return player_team_optimal_act[['Game Total Points', 'Selected?']]  \n",
    "\n",
    "\n",
    "def calc_team_points(player_team: pd.DataFrame, points_col: str = 'Game Total Points', sel_only: bool = True) -> float:\n",
    "    player_team = player_team.copy()\n",
    "    \n",
    "    if sel_only:\n",
    "        player_team = player_team[player_team['Selected?'] == True]\n",
    "        \n",
    "    player_team['Points'] = player_team[points_col]\n",
    "    \n",
    "    if 'Point Factor' in player_team.columns.values:\n",
    "        player_team['Points'] *= player_team['Point Factor']\n",
    "\n",
    "    return player_team['Points'].sum()\n",
    "\n",
    "def prep_gw(player_gw_eps_gw: pd.DataFrame, player_teams: pd.DataFrame, ep_column: str = 'Expected Points') -> pd.DataFrame:\n",
    "    player_team_eps_gw = (player_gw_eps_gw\n",
    "                            [['Game Total Points', ep_column, 'Current Cost']]\n",
    "                            [lambda df: ~df[ep_column].isnull()]\n",
    "                              .merge(player_teams[['Name', 'Field Position ID', 'Field Position', 'Player Team ID', 'First Name', 'Last Name', 'ICT Index', 'Team Short Name', 'Name and Short Team', 'Minutes Percent']],\n",
    "                                           left_index=True, right_index=True, suffixes=(False, False))\n",
    "                         )\n",
    "    player_team_eps_gw['News And Date'] = None # Unfortunately, we don't have historic news information.\n",
    "    return player_team_eps_gw[((player_team_eps_gw['Game Total Points'].isnull()) | (player_team_eps_gw['Game Total Points'] > 0)) \n",
    "                              & (player_team_eps_gw['Minutes Percent'] > 50)] \n",
    "    \n",
    "def calc_stats(player_team_optimal_exp: pd.DataFrame, pred_kind: str, ep_column: str) -> dict:\n",
    "    mae = abs(player_team_optimal_exp['Game Total Points']-player_team_optimal_exp[ep_column]).mean()\n",
    "    mse = ((player_team_optimal_exp['Game Total Points']-player_team_optimal_exp[ep_column])**2).mean()\n",
    "    return {f'{pred_kind} Expected Points': calc_team_points(player_team_optimal_exp, ep_column), \n",
    "            f'{pred_kind} Actual Points': calc_team_points(player_team_optimal_exp, 'Game Total Points'),\n",
    "            f'{pred_kind} Mean Absolute Error': mae, f'{pred_kind} Mean Square Error': mse}    \n"
   ]
  },
  {
   "cell_type": "code",
   "execution_count": null,
   "metadata": {
    "ExecuteTime": {
     "end_time": "2020-03-01T21:09:48.964306Z",
     "start_time": "2020-03-01T21:09:48.956328Z"
    }
   },
   "outputs": [],
   "source": [
    "def pred_free_hit_gw(players_gw_team_eps: pd.DataFrame, player_teams: pd.DataFrame, gw: int) -> pd.Series:\n",
    "    eps = (players_gw_team_eps\n",
    "             .reset_index()\n",
    "             .pipe(filter_gw, gw)\n",
    "             .pipe(prep_gw, player_teams, 'Expected Points')\n",
    "             .pipe(get_optimal_team_exp, 'Expected Points', '2-5-5-3', team_budget)\n",
    "             .pipe(calc_team_points, 'Expected Points'))\n",
    "    return pd.Series([gw, eps], index = ['Game Week', 'Expected Points'])"
   ]
  },
  {
   "cell_type": "code",
   "execution_count": null,
   "metadata": {
    "ExecuteTime": {
     "end_time": "2020-03-01T21:10:00.729044Z",
     "start_time": "2020-03-01T21:09:48.966302Z"
    }
   },
   "outputs": [],
   "source": [
    "free_hist_eps = pd.DataFrame()\n",
    "\n",
    "for gw in log_progress(range(current_gw, total_gws+1), name='Game Week'):\n",
    "    free_hist_eps = free_hist_eps.append(\n",
    "        pred_free_hit_gw(players_gw_team_eps, player_teams, gw), \n",
    "        ignore_index=True)\n",
    "\n",
    "(free_hist_eps\n",
    "    .sort_values('Expected Points', ascending=False)\n",
    "    .set_index('Game Week'))"
   ]
  },
  {
   "cell_type": "markdown",
   "metadata": {
    "ExecuteTime": {
     "end_time": "2020-03-01T20:18:17.598143Z",
     "start_time": "2020-03-01T20:18:17.594155Z"
    }
   },
   "source": [
    "# Select a good week for playing the bench boost chip\n",
    "Here we use the expected points for each player to determine the expected points of the user team (incl. non-selected players) for each game week. The game week with the highest expected points is the best for a bench boost. **Be aware that towards the end of the season, double game weeks get scheduled and therefore it is advisable to wait till early March.**"
   ]
  },
  {
   "cell_type": "code",
   "execution_count": null,
   "metadata": {
    "ExecuteTime": {
     "end_time": "2020-03-01T21:10:00.737022Z",
     "start_time": "2020-03-01T21:10:00.731039Z"
    }
   },
   "outputs": [],
   "source": [
    "def pred_bench_boost_gw(player_team_eps_user: pd.DataFrame, player_teams: pd.DataFrame, gw: int) -> pd.Series:\n",
    "    eps = (player_team_eps_user\n",
    "             .reset_index()\n",
    "             .pipe(filter_gw, gw)\n",
    "             .pipe(prep_gw, player_teams, 'Expected Points')\n",
    "             .pipe(get_optimal_team_exp, 'Expected Points', '2-5-5-3', team_budget)\n",
    "             .pipe(calc_team_points, points_col='Expected Points', sel_only=False))\n",
    "    return pd.Series([gw, eps], index = ['Game Week', 'Expected Points'])"
   ]
  },
  {
   "cell_type": "code",
   "execution_count": null,
   "metadata": {
    "ExecuteTime": {
     "end_time": "2020-03-01T21:10:13.556996Z",
     "start_time": "2020-03-01T21:10:00.739017Z"
    }
   },
   "outputs": [],
   "source": [
    "player_user_team_eps = (user_team\n",
    "    .merge(players_gw_team_eps.reset_index(), left_on='Player ID', right_on='Player ID', how='right')\n",
    "    .assign(**{'Current Cost': lambda df: df['Selling Price'].fillna(df['Current Cost'])}))\n",
    "\n",
    "bench_boost_eps = pd.DataFrame()\n",
    "\n",
    "for gw in log_progress(range(current_gw, total_gws+1), name='Game Week'):\n",
    "    bench_boost_eps = bench_boost_eps.append(\n",
    "        pred_bench_boost_gw(player_user_team_eps, player_teams, gw), \n",
    "        ignore_index=True)\n",
    "\n",
    "(bench_boost_eps\n",
    "    .sort_values('Expected Points', ascending=False)\n",
    "    .set_index('Game Week'))"
   ]
  },
  {
   "cell_type": "markdown",
   "metadata": {},
   "source": [
    "# How predictive is the ICT index?\n",
    "The Fantasy Premier League website says:\n",
    ">The ICT Index is a football statistical index developed specifically to assess a player as an FPL asset. It uses match event data to generate a single score for three key areas – Influence, Creativity and Threat. These figures then combine to create an individual’s ICT Index score. It condenses more than 40 match event statistics into four distinct scores. These offer a view on player performance for factors that are known to produce FPL points. See https://fantasy.premierleague.com/help\n",
    "\n",
    "So as the season progresses the chart should converge to a line if the index is indeed predictive."
   ]
  },
  {
   "cell_type": "code",
   "execution_count": null,
   "metadata": {
    "ExecuteTime": {
     "end_time": "2020-03-01T21:10:13.573950Z",
     "start_time": "2020-03-01T21:10:13.559988Z"
    },
    "jupyter": {
     "source_hidden": true
    }
   },
   "outputs": [],
   "source": [
    "# Calculate a fitted straight line to show what the ideal would look like\n",
    "\n",
    "# Count the number of players\n",
    "player_count = player_teams.shape[0]\n",
    "\n",
    "# Split the data into training/testing sets\n",
    "total_points = np.reshape(player_teams['Total Points'].values, (player_teams.shape[0], 1))\n",
    "itc_index = np.reshape(player_teams['ICT Index'].values, (player_teams.shape[0], 1))\n",
    "total_points_train, total_points_test, itc_index_train, itc_index_test = train_test_split(total_points, itc_index, test_size = 0.4, random_state = 1)\n",
    "\n",
    "# Train linear regression model\n",
    "regr = LinearRegression()\n",
    "_ = regr.fit(total_points_train, itc_index_train)\n",
    "\n",
    "# Make predictions using the testing set\n",
    "itc_index_pred = regr.predict(total_points_test)\n",
    "\n",
    "print(f'Coefficients: {regr.coef_[0][0]:.2f} ')\n",
    "print(f'Mean squared error: {np.mean((regr.predict(itc_index_test) - itc_index_pred) ** 2):.2f}')\n",
    "print(f'Variance score: {regr.score(total_points_test, itc_index_pred):.2f}')"
   ]
  },
  {
   "cell_type": "code",
   "execution_count": null,
   "metadata": {
    "ExecuteTime": {
     "end_time": "2020-03-01T21:10:13.901074Z",
     "start_time": "2020-03-01T21:10:13.576945Z"
    }
   },
   "outputs": [],
   "source": [
    "fig = {\n",
    "    'data': [\n",
    "        {'x': player_teams['Total Points'], 'y': player_teams['ICT Index'], 'text': player_teams['Name and Short Team'], 'mode': 'markers', 'name': 'Data'},\n",
    "        {'x': np.reshape(total_points_test,  (1, total_points_test.shape[0]))[0], 'y': np.reshape(regr.predict(total_points_test), (1, total_points_test.shape[0]))[0], 'mode': 'lines', 'name': 'Ideal (fully predictive)'}\n",
    "    ],\n",
    "    'layout': {\n",
    "        'xaxis': {'title': 'Total Point'},\n",
    "        'yaxis': {'title': 'ICT Index'},\n",
    "        'template': 'plotly_white'\n",
    "    }\n",
    "}\n",
    "py.iplot(fig)"
   ]
  },
  {
   "cell_type": "markdown",
   "metadata": {},
   "source": [
    "# Back test the expected points\n",
    "The basic idea of testing the predictions is to look at each past game week, predict the expected points for the game week (both adjusted for relative team strengths and not adjusted), optimise the team based on the expected points and then calculate the total expected points for the optimised team (only for the selected player). For validation, we calculate the actual points of the players of the optimised team. We also calculate the points of the dream team, i.e. the total points of the team with highest actual points for each game week."
   ]
  },
  {
   "cell_type": "code",
   "execution_count": null,
   "metadata": {
    "ExecuteTime": {
     "end_time": "2020-03-01T21:20:39.618260Z",
     "start_time": "2020-03-01T21:20:39.605294Z"
    }
   },
   "outputs": [],
   "source": [
    "def back_test_gw(players_gw_team_eps: pd.DataFrame, gw: int, player_teams: pd.DataFrame, team_fixture_strength: pd.DataFrame, eps_model: tf.keras.Model) -> dict:   \n",
    "    global player_gw_eps_gw\n",
    "    player_gw_eps_gw = (players_gw_team_eps\n",
    "                               .pipe(filter_gw, gw)\n",
    "                               [lambda df: ~df['Game Total Points'].isnull()])\n",
    "    \n",
    "    player_team_optimal_act = (player_gw_eps_gw\n",
    "                               .pipe(get_optimal_team_act))\n",
    "    \n",
    "    calc_prep_gw = (player_gw_eps_gw\n",
    "        .pipe(prep_gw, player_teams, 'Expected Points Calc'))\n",
    "    \n",
    "    nn_prep_gw = (player_gw_eps_gw\n",
    "        .pipe(prep_gw, player_teams, 'Expected Points NN'))\n",
    "    \n",
    "    calc_nn_prep_gw = (player_gw_eps_gw\n",
    "        .pipe(prep_gw, player_teams, 'Expected Points'))\n",
    "                        \n",
    "    results = {}\n",
    "    results['Game Week'] = gw\n",
    "    results['Actual Points Dream Team'] = player_team_optimal_act.pipe(calc_team_points)\n",
    "    results = {**results, **calc_prep_gw.pipe(get_optimal_team_exp, 'Expected Points Calc').pipe(calc_stats, 'Calc', 'Expected Points Calc') }\n",
    "    results = {**results, **nn_prep_gw.pipe(get_optimal_team_exp, 'Expected Points NN').pipe(calc_stats, 'NN', 'Expected Points NN')}\n",
    "    results = {**results, **calc_nn_prep_gw.pipe(get_optimal_team_exp, 'Expected Points').pipe(calc_stats, 'NN+Calc', 'Expected Points')}\n",
    "                  \n",
    "    return results"
   ]
  },
  {
   "cell_type": "code",
   "execution_count": null,
   "metadata": {
    "ExecuteTime": {
     "end_time": "2020-03-01T21:25:35.806985Z",
     "start_time": "2020-03-01T21:20:40.411153Z"
    }
   },
   "outputs": [],
   "source": [
    "backtest_results = pd.DataFrame()\n",
    "for gw in log_progress(range(2, current_gw), name='Game Week'):\n",
    "    backtest_results = backtest_results.append(back_test_gw(players_gw_team_eps.reset_index(), gw, player_teams, team_fixture_strength, eps_model), ignore_index=True)"
   ]
  },
  {
   "cell_type": "code",
   "execution_count": null,
   "metadata": {
    "ExecuteTime": {
     "end_time": "2020-03-01T21:27:29.630329Z",
     "start_time": "2020-03-01T21:27:29.370026Z"
    }
   },
   "outputs": [],
   "source": [
    "py.iplot([{'x': backtest_results['Game Week'], \n",
    "           'y':  backtest_results[col], 'name': col} for col in ('Actual Points Dream Team', 'Calc Actual Points', 'NN Actual Points', 'NN+Calc Actual Points')])"
   ]
  },
  {
   "cell_type": "code",
   "execution_count": null,
   "metadata": {
    "ExecuteTime": {
     "end_time": "2020-03-01T21:27:33.547425Z",
     "start_time": "2020-03-01T21:27:33.540444Z"
    }
   },
   "outputs": [],
   "source": [
    "backtest_results.iloc[5:].mean()"
   ]
  }
 ],
 "metadata": {
  "hide_input": false,
  "kernelspec": {
   "display_name": "Python 3",
   "language": "python",
   "name": "python3"
  },
  "language_info": {
   "codemirror_mode": {
    "name": "ipython",
    "version": 3
   },
   "file_extension": ".py",
   "mimetype": "text/x-python",
   "name": "python",
   "nbconvert_exporter": "python",
   "pygments_lexer": "ipython3",
   "version": "3.6.8"
  },
  "varInspector": {
   "cols": {
    "lenName": 16,
    "lenType": 16,
    "lenVar": 40
   },
   "kernels_config": {
    "python": {
     "delete_cmd_postfix": "",
     "delete_cmd_prefix": "del ",
     "library": "var_list.py",
     "varRefreshCmd": "print(var_dic_list())"
    },
    "r": {
     "delete_cmd_postfix": ") ",
     "delete_cmd_prefix": "rm(",
     "library": "var_list.r",
     "varRefreshCmd": "cat(var_dic_list()) "
    }
   },
   "types_to_exclude": [
    "module",
    "function",
    "builtin_function_or_method",
    "instance",
    "_Feature"
   ],
   "window_display": true
  }
 },
 "nbformat": 4,
 "nbformat_minor": 4
}
