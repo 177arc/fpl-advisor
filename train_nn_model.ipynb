{
 "cells": [
  {
   "cell_type": "markdown",
   "metadata": {},
   "source": [
    "# Fantasy Premier League (FPL) Advisor Neural Network Model Builder\n",
    "\n",
    "The purpose of this notebook is to train a neural network that can predict the expected points for specific player and fixture combination. Currently, the training data is based on the 2018/2019 season FPL data.\n",
    "\n",
    "# Installation\n",
    "To get started, run the following command to install all required dependencies."
   ]
  },
  {
   "cell_type": "code",
   "execution_count": null,
   "metadata": {
    "ExecuteTime": {
     "end_time": "2020-02-16T14:46:23.265387Z",
     "start_time": "2020-02-16T14:46:19.697864Z"
    },
    "scrolled": false
   },
   "outputs": [],
   "source": [
    "!pip install -q -r requirements.txt"
   ]
  },
  {
   "cell_type": "markdown",
   "metadata": {},
   "source": [
    "# Import requirements\n",
    "Here we import all external and local modulues."
   ]
  },
  {
   "cell_type": "code",
   "execution_count": null,
   "metadata": {
    "ExecuteTime": {
     "end_time": "2020-02-16T17:21:48.433291Z",
     "start_time": "2020-02-16T17:21:43.480539Z"
    }
   },
   "outputs": [],
   "source": [
    "import pandas as pd, re, datetime as dt, numpy as np, plotly.offline as py, cufflinks as cf, ipywidgets as widgets, os, sys\n",
    "from ipywidgets import interact, fixed\n",
    "from fplpandas import FPLPandas\n",
    "from datadict.jupyter import DataDict\n",
    "\n",
    "import tensorflow as tf\n",
    "from tensorflow import feature_column\n",
    "from tensorflow import keras\n",
    "from tensorflow.keras import regularizers\n",
    "from tensorflow.keras import layers\n",
    "import tensorflow_docs as tfdocs\n",
    "import tensorflow_docs.plots\n",
    "import matplotlib.pyplot as plt\n",
    "\n",
    "# Load local modules\n",
    "sys.path.append(os.getcwd())\n",
    "from common import *\n",
    "from jupyter import *\n",
    "from data import *\n",
    "from nn import *\n",
    "\n",
    "cf.go_offline()\n",
    "pd.set_option('display.max_columns', 100)"
   ]
  },
  {
   "cell_type": "markdown",
   "metadata": {},
   "source": [
    "# Set variables\n",
    "This section sets all important global variables."
   ]
  },
  {
   "cell_type": "code",
   "execution_count": null,
   "metadata": {
    "ExecuteTime": {
     "end_time": "2020-02-16T17:21:48.450246Z",
     "start_time": "2020-02-16T17:21:48.446258Z"
    }
   },
   "outputs": [],
   "source": [
    "season = '2018-19'"
   ]
  },
  {
   "cell_type": "markdown",
   "metadata": {},
   "source": [
    "# Load data dictionary\n",
    "This section loads the data dictionary. The data dictionary contains default ordering of fields, for each field a description, default format and mapping of API field names to more readable ones. It is used to show data in a more user-friendly way."
   ]
  },
  {
   "cell_type": "code",
   "execution_count": null,
   "metadata": {
    "ExecuteTime": {
     "end_time": "2020-02-16T17:21:48.480165Z",
     "start_time": "2020-02-16T17:21:48.452240Z"
    }
   },
   "outputs": [],
   "source": [
    "dd = DataDict(data_dict_file=f'./data_dictionary.csv')"
   ]
  },
  {
   "cell_type": "markdown",
   "metadata": {},
   "source": [
    "# Load data"
   ]
  },
  {
   "cell_type": "code",
   "execution_count": null,
   "metadata": {
    "ExecuteTime": {
     "end_time": "2020-02-16T17:21:48.573914Z",
     "start_time": "2020-02-16T17:21:48.482160Z"
    }
   },
   "outputs": [],
   "source": [
    "players = (pd.read_csv(f'./{season}/players_raw.csv', index_col='id', encoding='utf-8')\n",
    "           .pipe(prepare_players, dd))\n",
    "# Uncomment to view data: dd.display(players, head=5, excel_file='players.xlsx', stats=True)"
   ]
  },
  {
   "cell_type": "code",
   "execution_count": null,
   "metadata": {
    "ExecuteTime": {
     "end_time": "2020-02-16T17:21:49.110479Z",
     "start_time": "2020-02-16T17:21:48.575909Z"
    }
   },
   "outputs": [],
   "source": [
    "players_history = (pd.read_csv(f'./{season}/merged_gw.csv', encoding='utf-8')\n",
    "    .assign(**{'Player ID': lambda df: df['name'].str.extract(r'[^\\d]+\\_(\\d+)$').astype('int')})\n",
    "    .rename(columns={'fixture': 'Fixture ID'})\n",
    "    .set_index(['Player ID', 'Fixture ID'])\n",
    "    .pipe(prepare_players_history, dd)\n",
    "    .drop(columns=['name']))    \n",
    "# Uncomment to view data: dd.display(players_history, head=5, excel_file='players_history.xlsx', stats=True)"
   ]
  },
  {
   "cell_type": "code",
   "execution_count": null,
   "metadata": {
    "ExecuteTime": {
     "end_time": "2020-02-16T17:21:49.160347Z",
     "start_time": "2020-02-16T17:21:49.111477Z"
    }
   },
   "outputs": [],
   "source": [
    "fixtures = (pd.read_csv(f'./{season}/fixtures.csv', index_col='id')\n",
    "    .pipe(prepare_fixtures, dd))"
   ]
  },
  {
   "cell_type": "code",
   "execution_count": null,
   "metadata": {
    "ExecuteTime": {
     "end_time": "2020-02-16T17:21:49.182287Z",
     "start_time": "2020-02-16T17:21:49.162341Z"
    }
   },
   "outputs": [],
   "source": [
    "teams = (pd.read_csv(f'./{season}/teams.csv')\n",
    "         [lambda df: ~df['id'].isnull()]\n",
    "         .set_index('id')\n",
    "         .pipe(prepare_teams, dd))"
   ]
  },
  {
   "cell_type": "markdown",
   "metadata": {},
   "source": [
    "# Create input features from derived data\n",
    "This section creates new dataset by combining the previously loaded ones."
   ]
  },
  {
   "cell_type": "code",
   "execution_count": null,
   "metadata": {
    "ExecuteTime": {
     "end_time": "2020-02-16T17:21:49.224175Z",
     "start_time": "2020-02-16T17:21:49.185280Z"
    }
   },
   "outputs": [],
   "source": [
    "player_teams = players.pipe(get_player_teams, teams, dd)"
   ]
  },
  {
   "cell_type": "code",
   "execution_count": null,
   "metadata": {
    "ExecuteTime": {
     "end_time": "2020-02-16T17:21:49.247114Z",
     "start_time": "2020-02-16T17:21:49.226171Z"
    }
   },
   "outputs": [],
   "source": [
    "fixture_teams = fixtures.pipe(get_fixture_teams, teams, dd)"
   ]
  },
  {
   "cell_type": "code",
   "execution_count": null,
   "metadata": {
    "ExecuteTime": {
     "end_time": "2020-02-16T17:21:49.325903Z",
     "start_time": "2020-02-16T17:21:49.252101Z"
    }
   },
   "outputs": [],
   "source": [
    "team_fixture_scores = fixture_teams.pipe(get_team_fixture_scores, teams)"
   ]
  },
  {
   "cell_type": "code",
   "execution_count": null,
   "metadata": {
    "ExecuteTime": {
     "end_time": "2020-02-16T17:21:49.354826Z",
     "start_time": "2020-02-16T17:21:49.327898Z"
    }
   },
   "outputs": [],
   "source": [
    "team_score_stats = team_fixture_scores.pipe(get_team_score_stats)"
   ]
  },
  {
   "cell_type": "code",
   "execution_count": null,
   "metadata": {
    "ExecuteTime": {
     "end_time": "2020-02-16T17:21:49.389732Z",
     "start_time": "2020-02-16T17:21:49.356821Z"
    }
   },
   "outputs": [],
   "source": [
    "player_team_stats = (player_teams\n",
    "                     .merge(team_score_stats[['Total Team Goals Scored', 'Total Team Goals Conceded']], left_on='Player Team ID', right_index=True)\n",
    "                     .assign(**{'Team Total Points': (lambda df: df.groupby(['Player Team ID'])['Total Points'].sum())}))"
   ]
  },
  {
   "cell_type": "code",
   "execution_count": null,
   "metadata": {
    "ExecuteTime": {
     "end_time": "2020-02-16T17:21:50.213529Z",
     "start_time": "2020-02-16T17:21:49.391728Z"
    }
   },
   "outputs": [],
   "source": [
    "players_history_fixtures = (players_history[['Game Total Points', 'Game Minutes Played', 'Game Cost']].reset_index()\n",
    "    .merge(fixtures, left_on='Fixture ID', right_index=True)\n",
    "    .merge(player_team_stats[['Player Team ID', 'Field Position ID', 'Field Position', 'Name', 'Total Team Goals Scored', 'Total Team Goals Conceded']], left_on='Player ID', right_index=True)\n",
    "    .assign(**{'Is Home?': (lambda df: df['Home Team ID'] == df['Player Team ID'])})\n",
    "    .assign(**{'Opp Team ID': (lambda df: df.apply(lambda row: row['Away Team ID'] if row['Is Home?'] else row['Home Team ID'], axis=1))}))"
   ]
  },
  {
   "cell_type": "code",
   "execution_count": null,
   "metadata": {
    "ExecuteTime": {
     "end_time": "2020-02-16T17:21:50.232477Z",
     "start_time": "2020-02-16T17:21:50.214528Z"
    }
   },
   "outputs": [],
   "source": [
    "team_point_stats = (players_history_fixtures.groupby(['Player Team ID', 'Is Home?'])['Game Total Points']\n",
    "    .sum()\n",
    "    .unstack(level=-1)\n",
    "    .reset_index()\n",
    "    .rename(columns={False: 'Team Total Points Away', True: 'Team Total Points Home'})\n",
    "    .set_index('Player Team ID')\n",
    "    .assign(**{'Team Total Points':  (lambda df: df['Team Total Points Away']+df['Team Total Points Home'])})\n",
    "    .assign(**{'Team Total Points Home Away Ratio':  (lambda df: df['Team Total Points Away']/df['Team Total Points Home']) }))"
   ]
  },
  {
   "cell_type": "code",
   "execution_count": null,
   "metadata": {
    "ExecuteTime": {
     "end_time": "2020-02-16T17:21:50.248435Z",
     "start_time": "2020-02-16T17:21:50.233476Z"
    }
   },
   "outputs": [],
   "source": [
    "# Stats on the team's performance against all its opponents.\n",
    "team_point_opp_stats = (players_history_fixtures.groupby(['Opp Team ID', 'Is Home?'])['Game Total Points']\n",
    "    .sum()\n",
    "    .unstack(level=-1)\n",
    "    .reset_index()\n",
    "    .rename(columns={'Opp Team ID': 'Team ID', False: 'Team Total Points Opps Away', True: 'Team Total Points Opps Home'})\n",
    "    .set_index('Team ID')\n",
    "    .assign(**{'Team Total Points Opps': (lambda df: df['Team Total Points Opps Away']+df['Team Total Points Opps Home']) })\n",
    "    .assign(**{'Team Total Points Opps Home Away Ratio': (lambda df: df['Team Total Points Opps Away']/df['Team Total Points Opps Home']) }))"
   ]
  },
  {
   "cell_type": "code",
   "execution_count": null,
   "metadata": {
    "ExecuteTime": {
     "end_time": "2020-02-16T17:35:48.165610Z",
     "start_time": "2020-02-16T17:35:48.153641Z"
    }
   },
   "outputs": [],
   "source": [
    "team_stats = (players_history_fixtures.groupby(['Field Position ID', 'Is Home?'])['Game Total Points']\n",
    "    .sum()\n",
    "    .unstack(level=-1)\n",
    "    .rename(columns={False: 'Total Points Away', True: 'Total Points Home'})\n",
    "    .assign(**{'Total Points Home Away Ratio': lambda df: 1-(1-df['Total Points Away']/df['Total Points Home'])/2}))\n",
    "team_stats.columns.name = None"
   ]
  },
  {
   "cell_type": "code",
   "execution_count": null,
   "metadata": {
    "ExecuteTime": {
     "end_time": "2020-02-16T17:35:48.492734Z",
     "start_time": "2020-02-16T17:35:48.414943Z"
    }
   },
   "outputs": [],
   "source": [
    "player_fixtures_team_stats = (players_history_fixtures\n",
    "    .merge(team_point_stats[['Team Total Points']], left_on='Player Team ID', right_index=True)\n",
    "    .merge(team_point_stats[['Team Total Points']].rename(columns={'Team Total Points': 'Opp Team Total Points'}), left_on='Opp Team ID', right_index=True)\n",
    "    .merge(team_point_opp_stats[['Team Total Points Opps']], left_on='Player Team ID', right_index=True)\n",
    "    .merge(team_score_stats[['Team Short Name', 'Total Team Goals Scored', 'Total Team Goals Conceded']].rename(columns={'Team Short Name': 'Opp Team Short Name', 'Total Team Goals Scored': 'Total Opp Team Goals Scored', 'Total Team Goals Conceded': 'Total Opp Team Goals Conceded', 'Team Total Points': 'Opp Team Total Points'}), left_on='Opp Team ID', right_index=True)\n",
    "    .merge(team_stats[['Total Points Home Away Ratio']], left_on=['Field Position ID'], right_index=True)                          \n",
    "    .set_index(['Player ID', 'Fixture ID']))"
   ]
  },
  {
   "cell_type": "code",
   "execution_count": null,
   "metadata": {
    "ExecuteTime": {
     "end_time": "2020-02-16T17:59:55.239522Z",
     "start_time": "2020-02-16T17:59:51.392810Z"
    }
   },
   "outputs": [],
   "source": [
    "player_fixture_stats = (player_fixtures_team_stats\n",
    "      [['Game Total Points', 'Game Minutes Played', 'Away Team ID', 'Home Team ID', \n",
    "        'Away Team Score', 'Home Team Score', 'Away Team Difficulty', 'Home Team Difficulty', \n",
    "        'Game Week', 'Total Team Goals Scored', 'Total Team Goals Conceded', 'Total Opp Team Goals Scored', \n",
    "        'Total Opp Team Goals Conceded', 'Is Home?', 'Field Position', 'Team Total Points',\n",
    "        'Opp Team Total Points', 'Team Total Points Opps', 'Total Points Home Away Ratio', 'Kick Off Time']]\n",
    "      [lambda df: df['Game Minutes Played'] > 0]\n",
    "         .pipe(calc_player_fixture_stats))\n"
   ]
  },
  {
   "cell_type": "code",
   "execution_count": null,
   "metadata": {
    "ExecuteTime": {
     "end_time": "2020-02-16T17:22:10.086371Z",
     "start_time": "2020-02-16T17:22:07.465384Z"
    }
   },
   "outputs": [],
   "source": [
    "print(calc_mse(player_fixture_stats, 'Avg Points To GW', 'Game Total Points'))\n",
    "print(calc_mse(player_fixture_stats, 'Avg Points Opp Points Adj To GW', 'Game Total Points'))"
   ]
  },
  {
   "cell_type": "markdown",
   "metadata": {
    "ExecuteTime": {
     "end_time": "2020-02-16T15:20:57.167372Z",
     "start_time": "2020-02-16T15:20:57.163383Z"
    }
   },
   "source": [
    "## Create training and test datasets "
   ]
  },
  {
   "cell_type": "code",
   "execution_count": null,
   "metadata": {
    "ExecuteTime": {
     "end_time": "2020-02-16T18:00:00.650048Z",
     "start_time": "2020-02-16T18:00:00.511420Z"
    }
   },
   "outputs": [],
   "source": [
    "train_df, test_df = (player_fixture_stats\n",
    "    [lambda df: df['GWs Played To GW'] >= 10]\n",
    "    [['Field Position', 'Avg Points Opp Points Adj To GW', 'Game Total Points', 'Is Home?', 'Avg Minutes Played Recently To GW', 'Total Opp Team Goals Scored Diff']]\n",
    "    .dropna(how='any', axis=0)\n",
    "    .pipe(nn_split, frac=0.8))\n",
    "train_ds = train_df.pipe(nn_prep_ds, 'Game Total Points')\n",
    "test_ds = test_df.pipe(nn_prep_ds, 'Game Total Points')"
   ]
  },
  {
   "cell_type": "code",
   "execution_count": null,
   "metadata": {
    "ExecuteTime": {
     "end_time": "2020-02-16T18:00:04.924615Z",
     "start_time": "2020-02-16T18:00:04.918630Z"
    }
   },
   "outputs": [],
   "source": [
    "feature_columns = []\n",
    "\n",
    "field_pos = feature_column.categorical_column_with_vocabulary_list('field_position', ['GK', 'DEF', 'MID', 'FWD'])\n",
    "field_pos_one_hot = feature_column.indicator_column(field_pos)\n",
    "feature_columns.append(field_pos_one_hot)\n",
    "\n",
    "for col in ['avg_points_opp_points_adj_to_gw', 'avg_minutes_played_recently_to_gw', 'is_home_', 'total_opp_team_goals_scored_diff']:\n",
    "    feature_columns.append(feature_column.numeric_column(col))\n"
   ]
  },
  {
   "cell_type": "markdown",
   "metadata": {},
   "source": [
    "## Create model\n",
    "Here we create a neural network with four layers. Although ultimately the mean "
   ]
  },
  {
   "cell_type": "code",
   "execution_count": null,
   "metadata": {
    "ExecuteTime": {
     "end_time": "2020-02-16T18:00:05.392365Z",
     "start_time": "2020-02-16T18:00:05.381395Z"
    }
   },
   "outputs": [],
   "source": [
    "model = tf.keras.Sequential([\n",
    "  tf.keras.layers.DenseFeatures(feature_columns, dtype='float64'),\n",
    "  layers.Dense(4, activation='relu', dtype='float64'),\n",
    "  layers.Dense(3, activation='relu', dtype='float64'),\n",
    "  layers.Dense(1, dtype='float64')\n",
    "])\n",
    "\n",
    "model.compile(loss='mse',\n",
    "                optimizer=tf.keras.optimizers.RMSprop(0.001),\n",
    "                metrics=['mse', 'mae'])"
   ]
  },
  {
   "cell_type": "markdown",
   "metadata": {},
   "source": [
    "## Train model"
   ]
  },
  {
   "cell_type": "code",
   "execution_count": null,
   "metadata": {
    "ExecuteTime": {
     "end_time": "2020-02-16T18:00:27.516185Z",
     "start_time": "2020-02-16T18:00:06.030657Z"
    }
   },
   "outputs": [],
   "source": [
    "# The patience parameter is the amount of epochs to check for improvement\n",
    "early_stop = keras.callbacks.EarlyStopping(monitor='val_loss', patience=100)\n",
    "\n",
    "train_history = model.fit(train_ds,\n",
    "          validation_data=test_ds,\n",
    "          epochs=60,\n",
    "          callbacks=[early_stop])"
   ]
  },
  {
   "cell_type": "markdown",
   "metadata": {},
   "source": [
    "## Evaluate model"
   ]
  },
  {
   "cell_type": "code",
   "execution_count": null,
   "metadata": {
    "ExecuteTime": {
     "end_time": "2020-02-16T17:53:04.276799Z",
     "start_time": "2020-02-16T17:53:04.125205Z"
    }
   },
   "outputs": [],
   "source": [
    "plotter = tfdocs.plots.HistoryPlotter(smoothing_std=2)\n",
    "plotter.plot({'Early Stopping': train_history}, metric = 'mse')\n",
    "plt.ylabel('MSE [Game Total Points]')"
   ]
  },
  {
   "cell_type": "code",
   "execution_count": null,
   "metadata": {
    "ExecuteTime": {
     "end_time": "2020-02-16T18:02:03.368791Z",
     "start_time": "2020-02-16T18:02:03.086545Z"
    }
   },
   "outputs": [],
   "source": [
    "test_predictions = model.predict(test_ds).flatten()\n",
    "a = plt.axes(aspect='equal')\n",
    "plt.scatter(test_df['Game Total Points'], test_predictions)\n",
    "plt.xlabel('True Values [Game Total Points]')\n",
    "plt.ylabel('Predictions [Game Total Points]')\n",
    "lims = [-3, 20]\n",
    "plt.xlim(lims)\n",
    "plt.ylim(lims)\n",
    "_ = plt.plot(lims, lims)"
   ]
  },
  {
   "cell_type": "code",
   "execution_count": null,
   "metadata": {
    "ExecuteTime": {
     "end_time": "2020-02-16T18:02:17.558833Z",
     "start_time": "2020-02-16T18:02:17.525922Z"
    }
   },
   "outputs": [],
   "source": [
    "test_df['Predicted'] = test_predictions\n",
    "test_df"
   ]
  },
  {
   "cell_type": "markdown",
   "metadata": {},
   "source": [
    "## Save model"
   ]
  },
  {
   "cell_type": "code",
   "execution_count": null,
   "metadata": {
    "ExecuteTime": {
     "end_time": "2020-02-16T18:02:19.482687Z",
     "start_time": "2020-02-16T18:02:18.277910Z"
    }
   },
   "outputs": [],
   "source": [
    "model.save('models/expected_points')"
   ]
  }
 ],
 "metadata": {
  "hide_input": false,
  "kernelspec": {
   "display_name": "Python 3",
   "language": "python",
   "name": "python3"
  },
  "language_info": {
   "codemirror_mode": {
    "name": "ipython",
    "version": 3
   },
   "file_extension": ".py",
   "mimetype": "text/x-python",
   "name": "python",
   "nbconvert_exporter": "python",
   "pygments_lexer": "ipython3",
   "version": "3.6.8"
  },
  "varInspector": {
   "cols": {
    "lenName": 16,
    "lenType": 16,
    "lenVar": 40
   },
   "kernels_config": {
    "python": {
     "delete_cmd_postfix": "",
     "delete_cmd_prefix": "del ",
     "library": "var_list.py",
     "varRefreshCmd": "print(var_dic_list())"
    },
    "r": {
     "delete_cmd_postfix": ") ",
     "delete_cmd_prefix": "rm(",
     "library": "var_list.r",
     "varRefreshCmd": "cat(var_dic_list()) "
    }
   },
   "types_to_exclude": [
    "module",
    "function",
    "builtin_function_or_method",
    "instance",
    "_Feature"
   ],
   "window_display": false
  }
 },
 "nbformat": 4,
 "nbformat_minor": 2
}
